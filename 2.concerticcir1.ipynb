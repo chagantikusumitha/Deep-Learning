{
 "cells": [
  {
   "cell_type": "code",
   "execution_count": 1,
   "id": "4ae1b039",
   "metadata": {},
   "outputs": [],
   "source": [
    "import pandas as pd\n",
    "import numpy as np\n",
    "import matplotlib.pyplot as plt\n",
    "import seaborn as sns"
   ]
  },
  {
   "cell_type": "code",
   "execution_count": 2,
   "id": "4bd5971d",
   "metadata": {},
   "outputs": [],
   "source": [
    "data=pd.read_csv(\"2.concerticcir1.csv\",header=None)"
   ]
  },
  {
   "cell_type": "code",
   "execution_count": 3,
   "id": "4a83c482",
   "metadata": {},
   "outputs": [
    {
     "data": {
      "text/html": [
       "<div>\n",
       "<style scoped>\n",
       "    .dataframe tbody tr th:only-of-type {\n",
       "        vertical-align: middle;\n",
       "    }\n",
       "\n",
       "    .dataframe tbody tr th {\n",
       "        vertical-align: top;\n",
       "    }\n",
       "\n",
       "    .dataframe thead th {\n",
       "        text-align: right;\n",
       "    }\n",
       "</style>\n",
       "<table border=\"1\" class=\"dataframe\">\n",
       "  <thead>\n",
       "    <tr style=\"text-align: right;\">\n",
       "      <th></th>\n",
       "      <th>0</th>\n",
       "      <th>1</th>\n",
       "      <th>2</th>\n",
       "    </tr>\n",
       "  </thead>\n",
       "  <tbody>\n",
       "    <tr>\n",
       "      <th>0</th>\n",
       "      <td>-0.382891</td>\n",
       "      <td>-0.090840</td>\n",
       "      <td>1.0</td>\n",
       "    </tr>\n",
       "    <tr>\n",
       "      <th>1</th>\n",
       "      <td>-0.020962</td>\n",
       "      <td>-0.477874</td>\n",
       "      <td>1.0</td>\n",
       "    </tr>\n",
       "    <tr>\n",
       "      <th>2</th>\n",
       "      <td>-0.396116</td>\n",
       "      <td>-1.289427</td>\n",
       "      <td>0.0</td>\n",
       "    </tr>\n",
       "    <tr>\n",
       "      <th>3</th>\n",
       "      <td>-0.618130</td>\n",
       "      <td>-0.063837</td>\n",
       "      <td>1.0</td>\n",
       "    </tr>\n",
       "    <tr>\n",
       "      <th>4</th>\n",
       "      <td>0.703478</td>\n",
       "      <td>-0.187038</td>\n",
       "      <td>1.0</td>\n",
       "    </tr>\n",
       "  </tbody>\n",
       "</table>\n",
       "</div>"
      ],
      "text/plain": [
       "          0         1    2\n",
       "0 -0.382891 -0.090840  1.0\n",
       "1 -0.020962 -0.477874  1.0\n",
       "2 -0.396116 -1.289427  0.0\n",
       "3 -0.618130 -0.063837  1.0\n",
       "4  0.703478 -0.187038  1.0"
      ]
     },
     "execution_count": 3,
     "metadata": {},
     "output_type": "execute_result"
    }
   ],
   "source": [
    "data.head()"
   ]
  },
  {
   "cell_type": "code",
   "execution_count": 4,
   "id": "d6b93431",
   "metadata": {},
   "outputs": [
    {
     "data": {
      "text/plain": [
       "(100, 3)"
      ]
     },
     "execution_count": 4,
     "metadata": {},
     "output_type": "execute_result"
    }
   ],
   "source": [
    "data.shape"
   ]
  },
  {
   "cell_type": "code",
   "execution_count": 5,
   "id": "bb695f20",
   "metadata": {},
   "outputs": [
    {
     "data": {
      "text/plain": [
       "1.0    50\n",
       "0.0    50\n",
       "Name: 2, dtype: int64"
      ]
     },
     "execution_count": 5,
     "metadata": {},
     "output_type": "execute_result"
    }
   ],
   "source": [
    "data[2].value_counts()"
   ]
  },
  {
   "cell_type": "markdown",
   "id": "14f04e88",
   "metadata": {},
   "source": [
    "Balanced data"
   ]
  },
  {
   "cell_type": "code",
   "execution_count": 6,
   "id": "31c4fc77",
   "metadata": {},
   "outputs": [
    {
     "name": "stdout",
     "output_type": "stream",
     "text": [
      "<class 'pandas.core.frame.DataFrame'>\n",
      "RangeIndex: 100 entries, 0 to 99\n",
      "Data columns (total 3 columns):\n",
      " #   Column  Non-Null Count  Dtype  \n",
      "---  ------  --------------  -----  \n",
      " 0   0       100 non-null    float64\n",
      " 1   1       100 non-null    float64\n",
      " 2   2       100 non-null    float64\n",
      "dtypes: float64(3)\n",
      "memory usage: 2.5 KB\n"
     ]
    }
   ],
   "source": [
    "data.info()"
   ]
  },
  {
   "cell_type": "code",
   "execution_count": 7,
   "id": "20cfa0b8",
   "metadata": {},
   "outputs": [
    {
     "data": {
      "text/html": [
       "<div>\n",
       "<style scoped>\n",
       "    .dataframe tbody tr th:only-of-type {\n",
       "        vertical-align: middle;\n",
       "    }\n",
       "\n",
       "    .dataframe tbody tr th {\n",
       "        vertical-align: top;\n",
       "    }\n",
       "\n",
       "    .dataframe thead th {\n",
       "        text-align: right;\n",
       "    }\n",
       "</style>\n",
       "<table border=\"1\" class=\"dataframe\">\n",
       "  <thead>\n",
       "    <tr style=\"text-align: right;\">\n",
       "      <th></th>\n",
       "      <th>0</th>\n",
       "      <th>1</th>\n",
       "    </tr>\n",
       "  </thead>\n",
       "  <tbody>\n",
       "    <tr>\n",
       "      <th>0</th>\n",
       "      <td>-0.382891</td>\n",
       "      <td>-0.090840</td>\n",
       "    </tr>\n",
       "    <tr>\n",
       "      <th>1</th>\n",
       "      <td>-0.020962</td>\n",
       "      <td>-0.477874</td>\n",
       "    </tr>\n",
       "    <tr>\n",
       "      <th>2</th>\n",
       "      <td>-0.396116</td>\n",
       "      <td>-1.289427</td>\n",
       "    </tr>\n",
       "    <tr>\n",
       "      <th>3</th>\n",
       "      <td>-0.618130</td>\n",
       "      <td>-0.063837</td>\n",
       "    </tr>\n",
       "    <tr>\n",
       "      <th>4</th>\n",
       "      <td>0.703478</td>\n",
       "      <td>-0.187038</td>\n",
       "    </tr>\n",
       "    <tr>\n",
       "      <th>...</th>\n",
       "      <td>...</td>\n",
       "      <td>...</td>\n",
       "    </tr>\n",
       "    <tr>\n",
       "      <th>95</th>\n",
       "      <td>-0.474862</td>\n",
       "      <td>-0.224981</td>\n",
       "    </tr>\n",
       "    <tr>\n",
       "      <th>96</th>\n",
       "      <td>0.126272</td>\n",
       "      <td>0.869784</td>\n",
       "    </tr>\n",
       "    <tr>\n",
       "      <th>97</th>\n",
       "      <td>-0.647365</td>\n",
       "      <td>-0.363424</td>\n",
       "    </tr>\n",
       "    <tr>\n",
       "      <th>98</th>\n",
       "      <td>0.474405</td>\n",
       "      <td>1.011016</td>\n",
       "    </tr>\n",
       "    <tr>\n",
       "      <th>99</th>\n",
       "      <td>-0.385658</td>\n",
       "      <td>-0.810312</td>\n",
       "    </tr>\n",
       "  </tbody>\n",
       "</table>\n",
       "<p>100 rows × 2 columns</p>\n",
       "</div>"
      ],
      "text/plain": [
       "           0         1\n",
       "0  -0.382891 -0.090840\n",
       "1  -0.020962 -0.477874\n",
       "2  -0.396116 -1.289427\n",
       "3  -0.618130 -0.063837\n",
       "4   0.703478 -0.187038\n",
       "..       ...       ...\n",
       "95 -0.474862 -0.224981\n",
       "96  0.126272  0.869784\n",
       "97 -0.647365 -0.363424\n",
       "98  0.474405  1.011016\n",
       "99 -0.385658 -0.810312\n",
       "\n",
       "[100 rows x 2 columns]"
      ]
     },
     "execution_count": 7,
     "metadata": {},
     "output_type": "execute_result"
    }
   ],
   "source": [
    "data[[0,1]]"
   ]
  },
  {
   "cell_type": "code",
   "execution_count": 8,
   "id": "c177e35e",
   "metadata": {},
   "outputs": [
    {
     "name": "stderr",
     "output_type": "stream",
     "text": [
      "C:\\Users\\kusumitha\\anaconda3\\lib\\site-packages\\seaborn\\_decorators.py:36: FutureWarning: Pass the following variables as keyword args: x, y. From version 0.12, the only valid positional argument will be `data`, and passing other arguments without an explicit keyword will result in an error or misinterpretation.\n",
      "  warnings.warn(\n"
     ]
    },
    {
     "data": {
      "text/plain": [
       "<AxesSubplot:xlabel='0', ylabel='1'>"
      ]
     },
     "execution_count": 8,
     "metadata": {},
     "output_type": "execute_result"
    },
    {
     "data": {
      "image/png": "[encoded data removed]",
      "text/plain": [
       "<Figure size 432x288 with 1 Axes>"
      ]
     },
     "metadata": {
      "needs_background": "light"
     },
     "output_type": "display_data"
    }
   ],
   "source": [
    "sns.scatterplot(data[0],data[1],hue=data[2])"
   ]
  },
  {
   "cell_type": "code",
   "execution_count": 9,
   "id": "adc29632",
   "metadata": {},
   "outputs": [
    {
     "name": "stdout",
     "output_type": "stream",
     "text": [
      "(80, 2) (80,)\n",
      "(20, 2) (20,)\n"
     ]
    }
   ],
   "source": [
    "from sklearn.model_selection import train_test_split\n",
    "x_train,x_test,y_train,y_test=train_test_split(data[[0,1]],data[2],test_size=0.2)\n",
    "print(x_train.shape, y_train.shape)\n",
    "print(x_test.shape, y_test.shape)"
   ]
  },
  {
   "cell_type": "code",
   "execution_count": 10,
   "id": "d0d2f020",
   "metadata": {},
   "outputs": [],
   "source": [
    "import tensorflow \n",
    "from tensorflow import keras\n",
    "from keras.models import Sequential\n",
    "from keras.layers import Dense"
   ]
  },
  {
   "cell_type": "markdown",
   "id": "7096cd9a",
   "metadata": {},
   "source": [
    "Rescaling X test and X_train"
   ]
  },
  {
   "cell_type": "code",
   "execution_count": 11,
   "id": "945a0921",
   "metadata": {},
   "outputs": [
    {
     "data": {
      "text/html": [
       "<div>\n",
       "<style scoped>\n",
       "    .dataframe tbody tr th:only-of-type {\n",
       "        vertical-align: middle;\n",
       "    }\n",
       "\n",
       "    .dataframe tbody tr th {\n",
       "        vertical-align: top;\n",
       "    }\n",
       "\n",
       "    .dataframe thead th {\n",
       "        text-align: right;\n",
       "    }\n",
       "</style>\n",
       "<table border=\"1\" class=\"dataframe\">\n",
       "  <thead>\n",
       "    <tr style=\"text-align: right;\">\n",
       "      <th></th>\n",
       "      <th>0</th>\n",
       "      <th>1</th>\n",
       "    </tr>\n",
       "  </thead>\n",
       "  <tbody>\n",
       "    <tr>\n",
       "      <th>0</th>\n",
       "      <td>0.409950</td>\n",
       "      <td>-1.076843</td>\n",
       "    </tr>\n",
       "    <tr>\n",
       "      <th>1</th>\n",
       "      <td>1.520448</td>\n",
       "      <td>0.576395</td>\n",
       "    </tr>\n",
       "    <tr>\n",
       "      <th>2</th>\n",
       "      <td>-0.776743</td>\n",
       "      <td>1.326279</td>\n",
       "    </tr>\n",
       "    <tr>\n",
       "      <th>3</th>\n",
       "      <td>1.342701</td>\n",
       "      <td>-0.311724</td>\n",
       "    </tr>\n",
       "    <tr>\n",
       "      <th>4</th>\n",
       "      <td>1.413636</td>\n",
       "      <td>1.557543</td>\n",
       "    </tr>\n",
       "  </tbody>\n",
       "</table>\n",
       "</div>"
      ],
      "text/plain": [
       "          0         1\n",
       "0  0.409950 -1.076843\n",
       "1  1.520448  0.576395\n",
       "2 -0.776743  1.326279\n",
       "3  1.342701 -0.311724\n",
       "4  1.413636  1.557543"
      ]
     },
     "execution_count": 11,
     "metadata": {},
     "output_type": "execute_result"
    }
   ],
   "source": [
    "from sklearn.preprocessing import StandardScaler\n",
    "std=StandardScaler()\n",
    "x_trainf=std.fit_transform(x_train)\n",
    "x_testf=std.transform(x_test)\n",
    "pd.DataFrame(x_trainf).head()"
   ]
  },
  {
   "cell_type": "markdown",
   "id": "804e06b4",
   "metadata": {},
   "source": [
    "# Sigmoid Activation Fn sgd optimizer"
   ]
  },
  {
   "cell_type": "code",
   "execution_count": 40,
   "id": "2db79b2c",
   "metadata": {},
   "outputs": [],
   "source": [
    "model=Sequential()\n",
    "model.add(Dense(3,activation=\"sigmoid\",input_dim=2))\n",
    "\n",
    "model.add(Dense(2,activation=\"sigmoid\"))\n",
    "\n",
    "model.add(Dense(1,activation=\"sigmoid\"))"
   ]
  },
  {
   "cell_type": "code",
   "execution_count": 41,
   "id": "03a2d565",
   "metadata": {},
   "outputs": [
    {
     "name": "stdout",
     "output_type": "stream",
     "text": [
      "Model: \"sequential_3\"\n",
      "_________________________________________________________________\n",
      " Layer (type)                Output Shape              Param #   \n",
      "=================================================================\n",
      " dense_9 (Dense)             (None, 3)                 9         \n",
      "                                                                 \n",
      " dense_10 (Dense)            (None, 2)                 8         \n",
      "                                                                 \n",
      " dense_11 (Dense)            (None, 1)                 3         \n",
      "                                                                 \n",
      "=================================================================\n",
      "Total params: 20\n",
      "Trainable params: 20\n",
      "Non-trainable params: 0\n",
      "_________________________________________________________________\n"
     ]
    }
   ],
   "source": [
    "model.summary()"
   ]
  },
  {
   "cell_type": "markdown",
   "id": "690a4d3a",
   "metadata": {},
   "source": [
    "#We are using Stochastic Gradient Descent\n",
    "And output variable is binary, so we use Binary_cross entropy loss fn."
   ]
  },
  {
   "cell_type": "code",
   "execution_count": 42,
   "id": "0f08a7d5",
   "metadata": {},
   "outputs": [],
   "source": [
    "model.compile(optimizer=\"sgd\",loss=\"binary_crossentropy\",metrics=[\"accuracy\"])"
   ]
  },
  {
   "cell_type": "code",
   "execution_count": 47,
   "id": "09f6ea2b",
   "metadata": {},
   "outputs": [
    {
     "name": "stdout",
     "output_type": "stream",
     "text": [
      "Epoch 1/20\n",
      "4/4 [==============================] - 0s 36ms/step - loss: 0.6936 - accuracy: 0.5156 - val_loss: 0.6958 - val_accuracy: 0.3750\n",
      "Epoch 2/20\n",
      "4/4 [==============================] - 0s 19ms/step - loss: 0.6937 - accuracy: 0.5156 - val_loss: 0.6962 - val_accuracy: 0.3750\n",
      "Epoch 3/20\n",
      "4/4 [==============================] - 0s 17ms/step - loss: 0.6936 - accuracy: 0.5156 - val_loss: 0.6967 - val_accuracy: 0.3750\n",
      "Epoch 4/20\n",
      "4/4 [==============================] - 0s 18ms/step - loss: 0.6937 - accuracy: 0.5156 - val_loss: 0.6972 - val_accuracy: 0.3750\n",
      "Epoch 5/20\n",
      "4/4 [==============================] - 0s 18ms/step - loss: 0.6936 - accuracy: 0.5156 - val_loss: 0.6976 - val_accuracy: 0.3750\n",
      "Epoch 6/20\n",
      "4/4 [==============================] - 0s 18ms/step - loss: 0.6937 - accuracy: 0.5156 - val_loss: 0.6969 - val_accuracy: 0.3750\n",
      "Epoch 7/20\n",
      "4/4 [==============================] - 0s 18ms/step - loss: 0.6936 - accuracy: 0.5156 - val_loss: 0.6974 - val_accuracy: 0.3750\n",
      "Epoch 8/20\n",
      "4/4 [==============================] - 0s 19ms/step - loss: 0.6937 - accuracy: 0.5156 - val_loss: 0.6978 - val_accuracy: 0.3750\n",
      "Epoch 9/20\n",
      "4/4 [==============================] - 0s 18ms/step - loss: 0.6937 - accuracy: 0.5156 - val_loss: 0.6977 - val_accuracy: 0.3750\n",
      "Epoch 10/20\n",
      "4/4 [==============================] - 0s 17ms/step - loss: 0.6937 - accuracy: 0.5156 - val_loss: 0.6982 - val_accuracy: 0.3750\n",
      "Epoch 11/20\n",
      "4/4 [==============================] - 0s 19ms/step - loss: 0.6937 - accuracy: 0.5156 - val_loss: 0.6981 - val_accuracy: 0.3750\n",
      "Epoch 12/20\n",
      "4/4 [==============================] - 0s 19ms/step - loss: 0.6936 - accuracy: 0.5156 - val_loss: 0.6980 - val_accuracy: 0.3750\n",
      "Epoch 13/20\n",
      "4/4 [==============================] - 0s 18ms/step - loss: 0.6938 - accuracy: 0.5156 - val_loss: 0.6973 - val_accuracy: 0.3750\n",
      "Epoch 14/20\n",
      "4/4 [==============================] - 0s 18ms/step - loss: 0.6937 - accuracy: 0.5156 - val_loss: 0.6967 - val_accuracy: 0.3750\n",
      "Epoch 15/20\n",
      "4/4 [==============================] - 0s 19ms/step - loss: 0.6936 - accuracy: 0.5156 - val_loss: 0.6972 - val_accuracy: 0.3750\n",
      "Epoch 16/20\n",
      "4/4 [==============================] - 0s 19ms/step - loss: 0.6937 - accuracy: 0.5156 - val_loss: 0.6976 - val_accuracy: 0.3750\n",
      "Epoch 17/20\n",
      "4/4 [==============================] - 0s 17ms/step - loss: 0.6936 - accuracy: 0.5156 - val_loss: 0.6975 - val_accuracy: 0.3750\n",
      "Epoch 18/20\n",
      "4/4 [==============================] - 0s 18ms/step - loss: 0.6936 - accuracy: 0.5156 - val_loss: 0.6969 - val_accuracy: 0.3750\n",
      "Epoch 19/20\n",
      "4/4 [==============================] - 0s 20ms/step - loss: 0.6936 - accuracy: 0.5156 - val_loss: 0.6973 - val_accuracy: 0.3750\n",
      "Epoch 20/20\n",
      "4/4 [==============================] - 0s 17ms/step - loss: 0.6936 - accuracy: 0.5156 - val_loss: 0.6972 - val_accuracy: 0.3750\n"
     ]
    }
   ],
   "source": [
    "history=model.fit(x_trainf,y_train,batch_size=20,epochs=20,validation_split=0.2)"
   ]
  },
  {
   "cell_type": "code",
   "execution_count": 48,
   "id": "2ad00141",
   "metadata": {},
   "outputs": [],
   "source": [
    "y_pred=model.predict(x_testf)"
   ]
  },
  {
   "cell_type": "markdown",
   "id": "d554563d",
   "metadata": {},
   "source": [
    "if y_pred is greater than 0.5 we make it 1 else 0"
   ]
  },
  {
   "cell_type": "code",
   "execution_count": 49,
   "id": "946770e3",
   "metadata": {},
   "outputs": [],
   "source": [
    "y_predf=np.where(y_pred>0.5,1,0)"
   ]
  },
  {
   "cell_type": "code",
   "execution_count": 50,
   "id": "ff026a7d",
   "metadata": {},
   "outputs": [
    {
     "data": {
      "text/plain": [
       "0.55"
      ]
     },
     "execution_count": 50,
     "metadata": {},
     "output_type": "execute_result"
    }
   ],
   "source": [
    "from sklearn.metrics import accuracy_score\n",
    "accuracy_score(y_test,y_predf)"
   ]
  },
  {
   "cell_type": "code",
   "execution_count": 51,
   "id": "d35ca3b0",
   "metadata": {},
   "outputs": [
    {
     "data": {
      "text/plain": [
       "[<matplotlib.lines.Line2D at 0x1885e516c40>]"
      ]
     },
     "execution_count": 51,
     "metadata": {},
     "output_type": "execute_result"
    },
    {
     "data": {
      "image/png": "[encoded data removed]",
      "text/plain": [
       "<Figure size 432x288 with 1 Axes>"
      ]
     },
     "metadata": {
      "needs_background": "light"
     },
     "output_type": "display_data"
    }
   ],
   "source": [
    "plt.plot(history.history[\"loss\"])\n",
    "plt.plot(history.history[\"val_loss\"])"
   ]
  },
  {
   "cell_type": "code",
   "execution_count": 52,
   "id": "32a387da",
   "metadata": {},
   "outputs": [
    {
     "name": "stdout",
     "output_type": "stream",
     "text": [
      "^C\n",
      "Note: you may need to restart the kernel to use updated packages.\n"
     ]
    }
   ],
   "source": [
    "pip install mlxtend"
   ]
  },
  {
   "cell_type": "code",
   "execution_count": 154,
   "id": "678b55d4",
   "metadata": {},
   "outputs": [],
   "source": [
    "import mlxtend"
   ]
  },
  {
   "cell_type": "code",
   "execution_count": 53,
   "id": "f884e715",
   "metadata": {},
   "outputs": [],
   "source": [
    "from mlxtend.plotting import plot_decision_regions"
   ]
  },
  {
   "cell_type": "code",
   "execution_count": 54,
   "id": "d9454f49",
   "metadata": {},
   "outputs": [
    {
     "name": "stderr",
     "output_type": "stream",
     "text": [
      "C:\\Users\\kusumitha\\anaconda3\\lib\\site-packages\\mlxtend\\plotting\\decision_regions.py:315: UserWarning: No contour levels were found within the data range.\n",
      "  ax.contour(xx, yy, Z, cset.levels, **contour_kwargs)\n"
     ]
    },
    {
     "data": {
      "text/plain": [
       "<AxesSubplot:>"
      ]
     },
     "execution_count": 54,
     "metadata": {},
     "output_type": "execute_result"
    },
    {
     "data": {
      "image/png": "[encoded data removed]",
      "text/plain": [
       "<Figure size 432x288 with 1 Axes>"
      ]
     },
     "metadata": {
      "needs_background": "light"
     },
     "output_type": "display_data"
    }
   ],
   "source": [
    "plot_decision_regions(data[[0,1]].values,data[2].values.astype(int),clf=model)"
   ]
  },
  {
   "cell_type": "code",
   "execution_count": 55,
   "id": "351048b0",
   "metadata": {},
   "outputs": [
    {
     "data": {
      "text/plain": [
       "<AxesSubplot:>"
      ]
     },
     "execution_count": 55,
     "metadata": {},
     "output_type": "execute_result"
    },
    {
     "data": {
      "image/png": "[encoded data removed]",
      "text/plain": [
       "<Figure size 432x288 with 1 Axes>"
      ]
     },
     "metadata": {
      "needs_background": "light"
     },
     "output_type": "display_data"
    }
   ],
   "source": [
    "plot_decision_regions(x_testf,y_test.values.astype(int),clf=model)"
   ]
  },
  {
   "cell_type": "markdown",
   "id": "2d8d5ffb",
   "metadata": {},
   "source": [
    "# Sigmoid Fn with optimizer adam"
   ]
  },
  {
   "cell_type": "code",
   "execution_count": 66,
   "id": "6edc10a6",
   "metadata": {},
   "outputs": [],
   "source": [
    "model=Sequential()\n",
    "model.add(Dense(3,activation=\"sigmoid\",input_dim=2))\n",
    "\n",
    "model.add(Dense(3,activation=\"sigmoid\"))\n",
    "\n",
    "model.add(Dense(1,activation=\"sigmoid\"))"
   ]
  },
  {
   "cell_type": "code",
   "execution_count": 67,
   "id": "60bd377d",
   "metadata": {},
   "outputs": [
    {
     "name": "stdout",
     "output_type": "stream",
     "text": [
      "Model: \"sequential_5\"\n",
      "_________________________________________________________________\n",
      " Layer (type)                Output Shape              Param #   \n",
      "=================================================================\n",
      " dense_15 (Dense)            (None, 3)                 9         \n",
      "                                                                 \n",
      " dense_16 (Dense)            (None, 3)                 12        \n",
      "                                                                 \n",
      " dense_17 (Dense)            (None, 1)                 4         \n",
      "                                                                 \n",
      "=================================================================\n",
      "Total params: 25\n",
      "Trainable params: 25\n",
      "Non-trainable params: 0\n",
      "_________________________________________________________________\n"
     ]
    }
   ],
   "source": [
    "model.summary()"
   ]
  },
  {
   "cell_type": "code",
   "execution_count": 68,
   "id": "7172852f",
   "metadata": {},
   "outputs": [],
   "source": [
    "model.compile(optimizer=\"adam\",loss=\"binary_crossentropy\",metrics=[\"accuracy\"])"
   ]
  },
  {
   "cell_type": "code",
   "execution_count": 74,
   "id": "c7ecbbc8",
   "metadata": {},
   "outputs": [
    {
     "name": "stdout",
     "output_type": "stream",
     "text": [
      "Epoch 1/40\n",
      "7/7 [==============================] - 0s 19ms/step - loss: 0.6951 - accuracy: 0.5625 - val_loss: 0.6783 - val_accuracy: 0.7500\n",
      "Epoch 2/40\n",
      "7/7 [==============================] - 0s 11ms/step - loss: 0.6949 - accuracy: 0.5781 - val_loss: 0.6790 - val_accuracy: 0.8125\n",
      "Epoch 3/40\n",
      "7/7 [==============================] - 0s 10ms/step - loss: 0.6949 - accuracy: 0.5625 - val_loss: 0.6797 - val_accuracy: 0.8125\n",
      "Epoch 4/40\n",
      "7/7 [==============================] - 0s 11ms/step - loss: 0.6945 - accuracy: 0.5469 - val_loss: 0.6798 - val_accuracy: 0.8125\n",
      "Epoch 5/40\n",
      "7/7 [==============================] - 0s 11ms/step - loss: 0.6945 - accuracy: 0.5469 - val_loss: 0.6805 - val_accuracy: 0.8125\n",
      "Epoch 6/40\n",
      "7/7 [==============================] - 0s 11ms/step - loss: 0.6942 - accuracy: 0.5625 - val_loss: 0.6810 - val_accuracy: 0.8125\n",
      "Epoch 7/40\n",
      "7/7 [==============================] - 0s 10ms/step - loss: 0.6943 - accuracy: 0.5625 - val_loss: 0.6821 - val_accuracy: 0.8125\n",
      "Epoch 8/40\n",
      "7/7 [==============================] - 0s 10ms/step - loss: 0.6939 - accuracy: 0.5938 - val_loss: 0.6825 - val_accuracy: 0.7500\n",
      "Epoch 9/40\n",
      "7/7 [==============================] - 0s 11ms/step - loss: 0.6939 - accuracy: 0.6250 - val_loss: 0.6828 - val_accuracy: 0.6875\n",
      "Epoch 10/40\n",
      "7/7 [==============================] - 0s 10ms/step - loss: 0.6937 - accuracy: 0.6250 - val_loss: 0.6831 - val_accuracy: 0.6875\n",
      "Epoch 11/40\n",
      "7/7 [==============================] - 0s 10ms/step - loss: 0.6937 - accuracy: 0.6250 - val_loss: 0.6840 - val_accuracy: 0.6250\n",
      "Epoch 12/40\n",
      "7/7 [==============================] - 0s 10ms/step - loss: 0.6935 - accuracy: 0.6406 - val_loss: 0.6842 - val_accuracy: 0.6250\n",
      "Epoch 13/40\n",
      "7/7 [==============================] - 0s 11ms/step - loss: 0.6937 - accuracy: 0.5781 - val_loss: 0.6851 - val_accuracy: 0.5000\n",
      "Epoch 14/40\n",
      "7/7 [==============================] - 0s 11ms/step - loss: 0.6934 - accuracy: 0.5625 - val_loss: 0.6851 - val_accuracy: 0.5000\n",
      "Epoch 15/40\n",
      "7/7 [==============================] - 0s 11ms/step - loss: 0.6934 - accuracy: 0.5781 - val_loss: 0.6857 - val_accuracy: 0.5000\n",
      "Epoch 16/40\n",
      "7/7 [==============================] - 0s 10ms/step - loss: 0.6931 - accuracy: 0.5781 - val_loss: 0.6864 - val_accuracy: 0.4375\n",
      "Epoch 17/40\n",
      "7/7 [==============================] - 0s 13ms/step - loss: 0.6932 - accuracy: 0.5469 - val_loss: 0.6870 - val_accuracy: 0.4375\n",
      "Epoch 18/40\n",
      "7/7 [==============================] - 0s 10ms/step - loss: 0.6932 - accuracy: 0.5312 - val_loss: 0.6874 - val_accuracy: 0.4375\n",
      "Epoch 19/40\n",
      "7/7 [==============================] - 0s 9ms/step - loss: 0.6930 - accuracy: 0.5312 - val_loss: 0.6873 - val_accuracy: 0.4375\n",
      "Epoch 20/40\n",
      "7/7 [==============================] - 0s 11ms/step - loss: 0.6930 - accuracy: 0.5312 - val_loss: 0.6875 - val_accuracy: 0.4375\n",
      "Epoch 21/40\n",
      "7/7 [==============================] - 0s 13ms/step - loss: 0.6930 - accuracy: 0.5312 - val_loss: 0.6874 - val_accuracy: 0.4375\n",
      "Epoch 22/40\n",
      "7/7 [==============================] - 0s 13ms/step - loss: 0.6930 - accuracy: 0.5312 - val_loss: 0.6876 - val_accuracy: 0.4375\n",
      "Epoch 23/40\n",
      "7/7 [==============================] - 0s 12ms/step - loss: 0.6929 - accuracy: 0.5312 - val_loss: 0.6877 - val_accuracy: 0.4375\n",
      "Epoch 24/40\n",
      "7/7 [==============================] - 0s 11ms/step - loss: 0.6930 - accuracy: 0.5312 - val_loss: 0.6881 - val_accuracy: 0.4375\n",
      "Epoch 25/40\n",
      "7/7 [==============================] - 0s 10ms/step - loss: 0.6930 - accuracy: 0.5000 - val_loss: 0.6886 - val_accuracy: 0.4375\n",
      "Epoch 26/40\n",
      "7/7 [==============================] - 0s 11ms/step - loss: 0.6928 - accuracy: 0.5000 - val_loss: 0.6888 - val_accuracy: 0.4375\n",
      "Epoch 27/40\n",
      "7/7 [==============================] - 0s 10ms/step - loss: 0.6929 - accuracy: 0.5000 - val_loss: 0.6892 - val_accuracy: 0.4375\n",
      "Epoch 28/40\n",
      "7/7 [==============================] - 0s 11ms/step - loss: 0.6927 - accuracy: 0.5000 - val_loss: 0.6895 - val_accuracy: 0.5000\n",
      "Epoch 29/40\n",
      "7/7 [==============================] - 0s 12ms/step - loss: 0.6927 - accuracy: 0.5000 - val_loss: 0.6898 - val_accuracy: 0.5000\n",
      "Epoch 30/40\n",
      "7/7 [==============================] - 0s 14ms/step - loss: 0.6927 - accuracy: 0.4531 - val_loss: 0.6907 - val_accuracy: 0.5000\n",
      "Epoch 31/40\n",
      "7/7 [==============================] - 0s 21ms/step - loss: 0.6926 - accuracy: 0.4375 - val_loss: 0.6907 - val_accuracy: 0.5000\n",
      "Epoch 32/40\n",
      "7/7 [==============================] - 0s 16ms/step - loss: 0.6927 - accuracy: 0.4375 - val_loss: 0.6908 - val_accuracy: 0.5000\n",
      "Epoch 33/40\n",
      "7/7 [==============================] - 0s 18ms/step - loss: 0.6926 - accuracy: 0.4375 - val_loss: 0.6908 - val_accuracy: 0.5000\n",
      "Epoch 34/40\n",
      "7/7 [==============================] - 0s 18ms/step - loss: 0.6926 - accuracy: 0.4375 - val_loss: 0.6911 - val_accuracy: 0.5000\n",
      "Epoch 35/40\n",
      "7/7 [==============================] - 0s 13ms/step - loss: 0.6925 - accuracy: 0.4531 - val_loss: 0.6915 - val_accuracy: 0.5000\n",
      "Epoch 36/40\n",
      "7/7 [==============================] - 0s 12ms/step - loss: 0.6926 - accuracy: 0.4531 - val_loss: 0.6916 - val_accuracy: 0.5000\n",
      "Epoch 37/40\n",
      "7/7 [==============================] - 0s 19ms/step - loss: 0.6925 - accuracy: 0.4531 - val_loss: 0.6914 - val_accuracy: 0.5000\n",
      "Epoch 38/40\n",
      "7/7 [==============================] - 0s 20ms/step - loss: 0.6925 - accuracy: 0.4531 - val_loss: 0.6914 - val_accuracy: 0.5000\n",
      "Epoch 39/40\n",
      "7/7 [==============================] - 0s 18ms/step - loss: 0.6925 - accuracy: 0.4531 - val_loss: 0.6915 - val_accuracy: 0.5000\n",
      "Epoch 40/40\n",
      "7/7 [==============================] - 0s 18ms/step - loss: 0.6925 - accuracy: 0.4531 - val_loss: 0.6916 - val_accuracy: 0.5000\n"
     ]
    }
   ],
   "source": [
    "history=model.fit(x_trainf,y_train,batch_size=10,epochs=40,validation_split=0.2)"
   ]
  },
  {
   "cell_type": "code",
   "execution_count": 75,
   "id": "79b18254",
   "metadata": {},
   "outputs": [],
   "source": [
    "y_pred=model.predict(x_testf)"
   ]
  },
  {
   "cell_type": "code",
   "execution_count": 76,
   "id": "37e9b889",
   "metadata": {},
   "outputs": [],
   "source": [
    "y_predf=np.where(y_pred>0.5,1,0)"
   ]
  },
  {
   "cell_type": "code",
   "execution_count": 77,
   "id": "e2ede18f",
   "metadata": {},
   "outputs": [
    {
     "data": {
      "text/plain": [
       "0.45"
      ]
     },
     "execution_count": 77,
     "metadata": {},
     "output_type": "execute_result"
    }
   ],
   "source": [
    "from sklearn.metrics import accuracy_score\n",
    "accuracy_score(y_test,y_predf)"
   ]
  },
  {
   "cell_type": "code",
   "execution_count": 78,
   "id": "e83ea810",
   "metadata": {},
   "outputs": [
    {
     "data": {
      "text/plain": [
       "[<matplotlib.lines.Line2D at 0x1885f93c3d0>]"
      ]
     },
     "execution_count": 78,
     "metadata": {},
     "output_type": "execute_result"
    },
    {
     "data": {
      "image/png": "[encoded data removed]",
      "text/plain": [
       "<Figure size 432x288 with 1 Axes>"
      ]
     },
     "metadata": {
      "needs_background": "light"
     },
     "output_type": "display_data"
    }
   ],
   "source": [
    "plt.plot(history.history[\"loss\"])\n",
    "plt.plot(history.history[\"val_loss\"])"
   ]
  },
  {
   "cell_type": "code",
   "execution_count": 79,
   "id": "cba1789a",
   "metadata": {},
   "outputs": [
    {
     "data": {
      "text/plain": [
       "<AxesSubplot:>"
      ]
     },
     "execution_count": 79,
     "metadata": {},
     "output_type": "execute_result"
    },
    {
     "data": {
      "image/png": "[encoded data removed]",
      "text/plain": [
       "<Figure size 432x288 with 1 Axes>"
      ]
     },
     "metadata": {
      "needs_background": "light"
     },
     "output_type": "display_data"
    }
   ],
   "source": [
    "plot_decision_regions(data[[0,1]].values,data[2].values.astype(int),clf=model)"
   ]
  },
  {
   "cell_type": "code",
   "execution_count": 80,
   "id": "74dbcee1",
   "metadata": {},
   "outputs": [
    {
     "data": {
      "text/plain": [
       "<AxesSubplot:>"
      ]
     },
     "execution_count": 80,
     "metadata": {},
     "output_type": "execute_result"
    },
    {
     "data": {
      "image/png": "[encoded data removed]",
      "text/plain": [
       "<Figure size 432x288 with 1 Axes>"
      ]
     },
     "metadata": {
      "needs_background": "light"
     },
     "output_type": "display_data"
    }
   ],
   "source": [
    "plot_decision_regions(x_testf,y_test.values.astype(int),clf=model)"
   ]
  },
  {
   "cell_type": "markdown",
   "id": "e61aa1ad",
   "metadata": {},
   "source": [
    "# Tanh Act Fn with sgd optimizer"
   ]
  },
  {
   "cell_type": "code",
   "execution_count": 81,
   "id": "b98fc080",
   "metadata": {},
   "outputs": [],
   "source": [
    "model=Sequential()\n",
    "model.add(Dense(3,activation=\"tanh\",input_dim=2))\n",
    "\n",
    "model.add(Dense(4,activation=\"tanh\"))\n",
    "\n",
    "model.add(Dense(1,activation=\"sigmoid\"))"
   ]
  },
  {
   "cell_type": "code",
   "execution_count": 82,
   "id": "0331b076",
   "metadata": {},
   "outputs": [
    {
     "name": "stdout",
     "output_type": "stream",
     "text": [
      "Model: \"sequential_6\"\n",
      "_________________________________________________________________\n",
      " Layer (type)                Output Shape              Param #   \n",
      "=================================================================\n",
      " dense_18 (Dense)            (None, 3)                 9         \n",
      "                                                                 \n",
      " dense_19 (Dense)            (None, 4)                 16        \n",
      "                                                                 \n",
      " dense_20 (Dense)            (None, 1)                 5         \n",
      "                                                                 \n",
      "=================================================================\n",
      "Total params: 30\n",
      "Trainable params: 30\n",
      "Non-trainable params: 0\n",
      "_________________________________________________________________\n"
     ]
    }
   ],
   "source": [
    "model.summary()"
   ]
  },
  {
   "cell_type": "code",
   "execution_count": 83,
   "id": "0e7ca31b",
   "metadata": {},
   "outputs": [],
   "source": [
    "model.compile(optimizer=\"sgd\",loss=\"binary_crossentropy\",metrics=[\"accuracy\"])"
   ]
  },
  {
   "cell_type": "code",
   "execution_count": 93,
   "id": "97bc9784",
   "metadata": {},
   "outputs": [
    {
     "name": "stdout",
     "output_type": "stream",
     "text": [
      "Epoch 1/20\n",
      "3/3 [==============================] - 0s 51ms/step - loss: 0.7063 - accuracy: 0.5469 - val_loss: 0.7981 - val_accuracy: 0.3125\n",
      "Epoch 2/20\n",
      "3/3 [==============================] - 0s 26ms/step - loss: 0.7058 - accuracy: 0.5625 - val_loss: 0.7957 - val_accuracy: 0.3125\n",
      "Epoch 3/20\n",
      "3/3 [==============================] - 0s 34ms/step - loss: 0.7046 - accuracy: 0.5469 - val_loss: 0.7906 - val_accuracy: 0.3125\n",
      "Epoch 4/20\n",
      "3/3 [==============================] - 0s 33ms/step - loss: 0.7041 - accuracy: 0.5625 - val_loss: 0.7885 - val_accuracy: 0.3125\n",
      "Epoch 5/20\n",
      "3/3 [==============================] - 0s 33ms/step - loss: 0.7039 - accuracy: 0.5625 - val_loss: 0.7862 - val_accuracy: 0.3125\n",
      "Epoch 6/20\n",
      "3/3 [==============================] - 0s 34ms/step - loss: 0.7033 - accuracy: 0.5625 - val_loss: 0.7843 - val_accuracy: 0.3125\n",
      "Epoch 7/20\n",
      "3/3 [==============================] - 0s 34ms/step - loss: 0.7031 - accuracy: 0.5625 - val_loss: 0.7823 - val_accuracy: 0.3125\n",
      "Epoch 8/20\n",
      "3/3 [==============================] - 0s 33ms/step - loss: 0.7026 - accuracy: 0.5781 - val_loss: 0.7809 - val_accuracy: 0.3125\n",
      "Epoch 9/20\n",
      "3/3 [==============================] - 0s 34ms/step - loss: 0.7026 - accuracy: 0.5781 - val_loss: 0.7807 - val_accuracy: 0.3125\n",
      "Epoch 10/20\n",
      "3/3 [==============================] - 0s 31ms/step - loss: 0.7023 - accuracy: 0.5625 - val_loss: 0.7801 - val_accuracy: 0.3125\n",
      "Epoch 11/20\n",
      "3/3 [==============================] - 0s 33ms/step - loss: 0.7024 - accuracy: 0.5625 - val_loss: 0.7789 - val_accuracy: 0.3125\n",
      "Epoch 12/20\n",
      "3/3 [==============================] - 0s 35ms/step - loss: 0.7019 - accuracy: 0.5625 - val_loss: 0.7792 - val_accuracy: 0.3125\n",
      "Epoch 13/20\n",
      "3/3 [==============================] - 0s 32ms/step - loss: 0.7016 - accuracy: 0.5625 - val_loss: 0.7764 - val_accuracy: 0.3125\n",
      "Epoch 14/20\n",
      "3/3 [==============================] - 0s 34ms/step - loss: 0.7016 - accuracy: 0.5625 - val_loss: 0.7747 - val_accuracy: 0.3125\n",
      "Epoch 15/20\n",
      "3/3 [==============================] - 0s 31ms/step - loss: 0.7015 - accuracy: 0.5625 - val_loss: 0.7727 - val_accuracy: 0.3125\n",
      "Epoch 16/20\n",
      "3/3 [==============================] - 0s 27ms/step - loss: 0.7016 - accuracy: 0.5625 - val_loss: 0.7736 - val_accuracy: 0.3125\n",
      "Epoch 17/20\n",
      "3/3 [==============================] - 0s 28ms/step - loss: 0.7011 - accuracy: 0.5625 - val_loss: 0.7725 - val_accuracy: 0.3125\n",
      "Epoch 18/20\n",
      "3/3 [==============================] - 0s 26ms/step - loss: 0.7010 - accuracy: 0.5625 - val_loss: 0.7715 - val_accuracy: 0.3125\n",
      "Epoch 19/20\n",
      "3/3 [==============================] - 0s 27ms/step - loss: 0.7010 - accuracy: 0.5625 - val_loss: 0.7765 - val_accuracy: 0.3125\n",
      "Epoch 20/20\n",
      "3/3 [==============================] - 0s 25ms/step - loss: 0.7008 - accuracy: 0.5625 - val_loss: 0.7735 - val_accuracy: 0.3125\n"
     ]
    }
   ],
   "source": [
    "history=model.fit(x_trainf,y_train,batch_size=30,epochs=20,validation_split=0.2)"
   ]
  },
  {
   "cell_type": "code",
   "execution_count": 94,
   "id": "5b4d0f8d",
   "metadata": {},
   "outputs": [],
   "source": [
    "y_pred=model.predict(x_testf)"
   ]
  },
  {
   "cell_type": "code",
   "execution_count": 95,
   "id": "1a679fc2",
   "metadata": {},
   "outputs": [],
   "source": [
    "y_predf=np.where(y_pred>0.5,1,0)"
   ]
  },
  {
   "cell_type": "code",
   "execution_count": 96,
   "id": "40114283",
   "metadata": {},
   "outputs": [
    {
     "data": {
      "text/plain": [
       "0.6"
      ]
     },
     "execution_count": 96,
     "metadata": {},
     "output_type": "execute_result"
    }
   ],
   "source": [
    "from sklearn.metrics import accuracy_score\n",
    "accuracy_score(y_test,y_predf)"
   ]
  },
  {
   "cell_type": "code",
   "execution_count": 97,
   "id": "e76a711f",
   "metadata": {},
   "outputs": [
    {
     "data": {
      "text/plain": [
       "[<matplotlib.lines.Line2D at 0x18860ce5760>]"
      ]
     },
     "execution_count": 97,
     "metadata": {},
     "output_type": "execute_result"
    },
    {
     "data": {
      "image/png": "[encoded data removed]",
      "text/plain": [
       "<Figure size 432x288 with 1 Axes>"
      ]
     },
     "metadata": {
      "needs_background": "light"
     },
     "output_type": "display_data"
    }
   ],
   "source": [
    "plt.plot(history.history[\"loss\"])\n",
    "plt.plot(history.history[\"val_loss\"])"
   ]
  },
  {
   "cell_type": "code",
   "execution_count": 98,
   "id": "a77abb1b",
   "metadata": {},
   "outputs": [
    {
     "data": {
      "text/plain": [
       "<AxesSubplot:>"
      ]
     },
     "execution_count": 98,
     "metadata": {},
     "output_type": "execute_result"
    },
    {
     "data": {
      "image/png": "[encoded data removed]",
      "text/plain": [
       "<Figure size 432x288 with 1 Axes>"
      ]
     },
     "metadata": {
      "needs_background": "light"
     },
     "output_type": "display_data"
    }
   ],
   "source": [
    "plot_decision_regions(data[[0,1]].values,data[2].values.astype(int),clf=model)"
   ]
  },
  {
   "cell_type": "code",
   "execution_count": 99,
   "id": "a9345ad1",
   "metadata": {},
   "outputs": [
    {
     "data": {
      "text/plain": [
       "<AxesSubplot:>"
      ]
     },
     "execution_count": 99,
     "metadata": {},
     "output_type": "execute_result"
    },
    {
     "data": {
      "image/png": "[encoded data removed]",
      "text/plain": [
       "<Figure size 432x288 with 1 Axes>"
      ]
     },
     "metadata": {
      "needs_background": "light"
     },
     "output_type": "display_data"
    }
   ],
   "source": [
    "plot_decision_regions(x_testf,y_test.values.astype(int),clf=model)"
   ]
  },
  {
   "cell_type": "markdown",
   "id": "e61d57e2",
   "metadata": {},
   "source": [
    "# Tanh Act Fn with adam optimizer"
   ]
  },
  {
   "cell_type": "code",
   "execution_count": 100,
   "id": "2c476e41",
   "metadata": {},
   "outputs": [],
   "source": [
    "model=Sequential()\n",
    "model.add(Dense(3,activation=\"tanh\",input_dim=2))\n",
    "\n",
    "model.add(Dense(4,activation=\"tanh\"))\n",
    "\n",
    "model.add(Dense(1,activation=\"sigmoid\"))"
   ]
  },
  {
   "cell_type": "code",
   "execution_count": 101,
   "id": "a582932e",
   "metadata": {},
   "outputs": [
    {
     "name": "stdout",
     "output_type": "stream",
     "text": [
      "Model: \"sequential_7\"\n",
      "_________________________________________________________________\n",
      " Layer (type)                Output Shape              Param #   \n",
      "=================================================================\n",
      " dense_21 (Dense)            (None, 3)                 9         \n",
      "                                                                 \n",
      " dense_22 (Dense)            (None, 4)                 16        \n",
      "                                                                 \n",
      " dense_23 (Dense)            (None, 1)                 5         \n",
      "                                                                 \n",
      "=================================================================\n",
      "Total params: 30\n",
      "Trainable params: 30\n",
      "Non-trainable params: 0\n",
      "_________________________________________________________________\n"
     ]
    }
   ],
   "source": [
    "model.summary()"
   ]
  },
  {
   "cell_type": "code",
   "execution_count": 102,
   "id": "84701cad",
   "metadata": {},
   "outputs": [],
   "source": [
    "model.compile(optimizer=\"adam\",loss=\"binary_crossentropy\",metrics=[\"accuracy\"])"
   ]
  },
  {
   "cell_type": "code",
   "execution_count": 103,
   "id": "ba26dabb",
   "metadata": {},
   "outputs": [
    {
     "name": "stdout",
     "output_type": "stream",
     "text": [
      "Epoch 1/20\n",
      "7/7 [==============================] - 1s 48ms/step - loss: 0.7633 - accuracy: 0.5000 - val_loss: 0.5597 - val_accuracy: 0.6875\n",
      "Epoch 2/20\n",
      "7/7 [==============================] - 0s 11ms/step - loss: 0.7570 - accuracy: 0.5000 - val_loss: 0.5647 - val_accuracy: 0.6875\n",
      "Epoch 3/20\n",
      "7/7 [==============================] - 0s 10ms/step - loss: 0.7508 - accuracy: 0.5000 - val_loss: 0.5696 - val_accuracy: 0.6875\n",
      "Epoch 4/20\n",
      "7/7 [==============================] - 0s 10ms/step - loss: 0.7447 - accuracy: 0.5000 - val_loss: 0.5733 - val_accuracy: 0.6875\n",
      "Epoch 5/20\n",
      "7/7 [==============================] - 0s 10ms/step - loss: 0.7404 - accuracy: 0.5000 - val_loss: 0.5788 - val_accuracy: 0.6875\n",
      "Epoch 6/20\n",
      "7/7 [==============================] - 0s 10ms/step - loss: 0.7355 - accuracy: 0.5000 - val_loss: 0.5833 - val_accuracy: 0.6875\n",
      "Epoch 7/20\n",
      "7/7 [==============================] - 0s 13ms/step - loss: 0.7307 - accuracy: 0.5000 - val_loss: 0.5873 - val_accuracy: 0.6875\n",
      "Epoch 8/20\n",
      "7/7 [==============================] - 0s 13ms/step - loss: 0.7269 - accuracy: 0.4688 - val_loss: 0.5901 - val_accuracy: 0.6875\n",
      "Epoch 9/20\n",
      "7/7 [==============================] - 0s 14ms/step - loss: 0.7235 - accuracy: 0.4688 - val_loss: 0.5941 - val_accuracy: 0.6250\n",
      "Epoch 10/20\n",
      "7/7 [==============================] - 0s 13ms/step - loss: 0.7192 - accuracy: 0.4844 - val_loss: 0.5975 - val_accuracy: 0.6250\n",
      "Epoch 11/20\n",
      "7/7 [==============================] - 0s 12ms/step - loss: 0.7167 - accuracy: 0.4844 - val_loss: 0.6024 - val_accuracy: 0.6250\n",
      "Epoch 12/20\n",
      "7/7 [==============================] - 0s 11ms/step - loss: 0.7122 - accuracy: 0.5000 - val_loss: 0.6066 - val_accuracy: 0.6250\n",
      "Epoch 13/20\n",
      "7/7 [==============================] - 0s 10ms/step - loss: 0.7097 - accuracy: 0.5156 - val_loss: 0.6111 - val_accuracy: 0.6250\n",
      "Epoch 14/20\n",
      "7/7 [==============================] - 0s 10ms/step - loss: 0.7064 - accuracy: 0.5156 - val_loss: 0.6150 - val_accuracy: 0.6250\n",
      "Epoch 15/20\n",
      "7/7 [==============================] - 0s 11ms/step - loss: 0.7042 - accuracy: 0.5156 - val_loss: 0.6188 - val_accuracy: 0.6250\n",
      "Epoch 16/20\n",
      "7/7 [==============================] - 0s 11ms/step - loss: 0.7008 - accuracy: 0.5156 - val_loss: 0.6215 - val_accuracy: 0.6250\n",
      "Epoch 17/20\n",
      "7/7 [==============================] - 0s 11ms/step - loss: 0.6983 - accuracy: 0.5156 - val_loss: 0.6239 - val_accuracy: 0.6875\n",
      "Epoch 18/20\n",
      "7/7 [==============================] - 0s 11ms/step - loss: 0.6961 - accuracy: 0.5625 - val_loss: 0.6262 - val_accuracy: 0.6250\n",
      "Epoch 19/20\n",
      "7/7 [==============================] - 0s 11ms/step - loss: 0.6943 - accuracy: 0.5781 - val_loss: 0.6281 - val_accuracy: 0.6250\n",
      "Epoch 20/20\n",
      "7/7 [==============================] - 0s 11ms/step - loss: 0.6926 - accuracy: 0.5938 - val_loss: 0.6308 - val_accuracy: 0.6250\n"
     ]
    }
   ],
   "source": [
    "history=model.fit(x_trainf,y_train,batch_size=10,epochs=20,validation_split=0.2)"
   ]
  },
  {
   "cell_type": "code",
   "execution_count": 104,
   "id": "7763c768",
   "metadata": {},
   "outputs": [],
   "source": [
    "y_pred=model.predict(x_testf)"
   ]
  },
  {
   "cell_type": "code",
   "execution_count": 105,
   "id": "763290ff",
   "metadata": {},
   "outputs": [],
   "source": [
    "y_predf=np.where(y_pred>0.5,1,0)"
   ]
  },
  {
   "cell_type": "code",
   "execution_count": 106,
   "id": "cdf77372",
   "metadata": {},
   "outputs": [
    {
     "data": {
      "text/plain": [
       "0.35"
      ]
     },
     "execution_count": 106,
     "metadata": {},
     "output_type": "execute_result"
    }
   ],
   "source": [
    "from sklearn.metrics import accuracy_score\n",
    "accuracy_score(y_test,y_predf)"
   ]
  },
  {
   "cell_type": "code",
   "execution_count": 107,
   "id": "b8331cea",
   "metadata": {},
   "outputs": [
    {
     "data": {
      "text/plain": [
       "[<matplotlib.lines.Line2D at 0x188620a8fa0>]"
      ]
     },
     "execution_count": 107,
     "metadata": {},
     "output_type": "execute_result"
    },
    {
     "data": {
      "image/png": "[encoded data removed]",
      "text/plain": [
       "<Figure size 432x288 with 1 Axes>"
      ]
     },
     "metadata": {
      "needs_background": "light"
     },
     "output_type": "display_data"
    }
   ],
   "source": [
    "plt.plot(history.history[\"loss\"])\n",
    "plt.plot(history.history[\"val_loss\"])"
   ]
  },
  {
   "cell_type": "code",
   "execution_count": 108,
   "id": "d49f7d10",
   "metadata": {},
   "outputs": [
    {
     "data": {
      "text/plain": [
       "<AxesSubplot:>"
      ]
     },
     "execution_count": 108,
     "metadata": {},
     "output_type": "execute_result"
    },
    {
     "data": {
      "image/png": "[encoded data removed]",
      "text/plain": [
       "<Figure size 432x288 with 1 Axes>"
      ]
     },
     "metadata": {
      "needs_background": "light"
     },
     "output_type": "display_data"
    }
   ],
   "source": [
    "plot_decision_regions(data[[0,1]].values,data[2].values.astype(int),clf=model)"
   ]
  },
  {
   "cell_type": "code",
   "execution_count": 109,
   "id": "3c4e7624",
   "metadata": {},
   "outputs": [
    {
     "data": {
      "text/plain": [
       "<AxesSubplot:>"
      ]
     },
     "execution_count": 109,
     "metadata": {},
     "output_type": "execute_result"
    },
    {
     "data": {
      "image/png": "[encoded data removed]",
      "text/plain": [
       "<Figure size 432x288 with 1 Axes>"
      ]
     },
     "metadata": {
      "needs_background": "light"
     },
     "output_type": "display_data"
    }
   ],
   "source": [
    "plot_decision_regions(x_testf,y_test.values.astype(int),clf=model)"
   ]
  },
  {
   "cell_type": "markdown",
   "id": "42765451",
   "metadata": {},
   "source": [
    "# Relu Act Fn with sgd optimizer"
   ]
  },
  {
   "cell_type": "code",
   "execution_count": 134,
   "id": "3e7b2bf3",
   "metadata": {},
   "outputs": [],
   "source": [
    "model=Sequential()\n",
    "model.add(Dense(3,activation=\"relu\",input_dim=2))\n",
    "\n",
    "model.add(Dense(2,activation=\"relu\"))\n",
    "\n",
    "model.add(Dense(1,activation=\"sigmoid\"))"
   ]
  },
  {
   "cell_type": "code",
   "execution_count": 135,
   "id": "7ae37707",
   "metadata": {},
   "outputs": [
    {
     "name": "stdout",
     "output_type": "stream",
     "text": [
      "Model: \"sequential_11\"\n",
      "_________________________________________________________________\n",
      " Layer (type)                Output Shape              Param #   \n",
      "=================================================================\n",
      " dense_33 (Dense)            (None, 3)                 9         \n",
      "                                                                 \n",
      " dense_34 (Dense)            (None, 2)                 8         \n",
      "                                                                 \n",
      " dense_35 (Dense)            (None, 1)                 3         \n",
      "                                                                 \n",
      "=================================================================\n",
      "Total params: 20\n",
      "Trainable params: 20\n",
      "Non-trainable params: 0\n",
      "_________________________________________________________________\n"
     ]
    }
   ],
   "source": [
    "model.summary()"
   ]
  },
  {
   "cell_type": "code",
   "execution_count": 136,
   "id": "63f0ff17",
   "metadata": {},
   "outputs": [],
   "source": [
    "model.compile(optimizer=\"sgd\",loss=\"binary_crossentropy\",metrics=[\"accuracy\"])"
   ]
  },
  {
   "cell_type": "code",
   "execution_count": 137,
   "id": "c5842009",
   "metadata": {},
   "outputs": [
    {
     "name": "stdout",
     "output_type": "stream",
     "text": [
      "Epoch 1/30\n",
      "7/7 [==============================] - 1s 49ms/step - loss: 0.7076 - accuracy: 0.5625 - val_loss: 0.6735 - val_accuracy: 0.5625\n",
      "Epoch 2/30\n",
      "7/7 [==============================] - 0s 10ms/step - loss: 0.6986 - accuracy: 0.5625 - val_loss: 0.6615 - val_accuracy: 0.6250\n",
      "Epoch 3/30\n",
      "7/7 [==============================] - 0s 11ms/step - loss: 0.6912 - accuracy: 0.5781 - val_loss: 0.6537 - val_accuracy: 0.6250\n",
      "Epoch 4/30\n",
      "7/7 [==============================] - 0s 11ms/step - loss: 0.6856 - accuracy: 0.5781 - val_loss: 0.6466 - val_accuracy: 0.6250\n",
      "Epoch 5/30\n",
      "7/7 [==============================] - 0s 10ms/step - loss: 0.6811 - accuracy: 0.5781 - val_loss: 0.6419 - val_accuracy: 0.6875\n",
      "Epoch 6/30\n",
      "7/7 [==============================] - 0s 11ms/step - loss: 0.6781 - accuracy: 0.5781 - val_loss: 0.6354 - val_accuracy: 0.6875\n",
      "Epoch 7/30\n",
      "7/7 [==============================] - 0s 10ms/step - loss: 0.6739 - accuracy: 0.5469 - val_loss: 0.6308 - val_accuracy: 0.6875\n",
      "Epoch 8/30\n",
      "7/7 [==============================] - 0s 10ms/step - loss: 0.6702 - accuracy: 0.5312 - val_loss: 0.6272 - val_accuracy: 0.6875\n",
      "Epoch 9/30\n",
      "7/7 [==============================] - 0s 10ms/step - loss: 0.6675 - accuracy: 0.5312 - val_loss: 0.6224 - val_accuracy: 0.6875\n",
      "Epoch 10/30\n",
      "7/7 [==============================] - 0s 11ms/step - loss: 0.6631 - accuracy: 0.5312 - val_loss: 0.6192 - val_accuracy: 0.6875\n",
      "Epoch 11/30\n",
      "7/7 [==============================] - 0s 11ms/step - loss: 0.6606 - accuracy: 0.5312 - val_loss: 0.6159 - val_accuracy: 0.6875\n",
      "Epoch 12/30\n",
      "7/7 [==============================] - 0s 11ms/step - loss: 0.6576 - accuracy: 0.5156 - val_loss: 0.6138 - val_accuracy: 0.6875\n",
      "Epoch 13/30\n",
      "7/7 [==============================] - 0s 11ms/step - loss: 0.6563 - accuracy: 0.5469 - val_loss: 0.6116 - val_accuracy: 0.6875\n",
      "Epoch 14/30\n",
      "7/7 [==============================] - 0s 10ms/step - loss: 0.6535 - accuracy: 0.5312 - val_loss: 0.6090 - val_accuracy: 0.6875\n",
      "Epoch 15/30\n",
      "7/7 [==============================] - 0s 10ms/step - loss: 0.6517 - accuracy: 0.5000 - val_loss: 0.6059 - val_accuracy: 0.6875\n",
      "Epoch 16/30\n",
      "7/7 [==============================] - 0s 11ms/step - loss: 0.6503 - accuracy: 0.5000 - val_loss: 0.6049 - val_accuracy: 0.6875\n",
      "Epoch 17/30\n",
      "7/7 [==============================] - 0s 11ms/step - loss: 0.6483 - accuracy: 0.5312 - val_loss: 0.6031 - val_accuracy: 0.6875\n",
      "Epoch 18/30\n",
      "7/7 [==============================] - 0s 11ms/step - loss: 0.6472 - accuracy: 0.5156 - val_loss: 0.6007 - val_accuracy: 0.6875\n",
      "Epoch 19/30\n",
      "7/7 [==============================] - 0s 12ms/step - loss: 0.6451 - accuracy: 0.5469 - val_loss: 0.5994 - val_accuracy: 0.6875\n",
      "Epoch 20/30\n",
      "7/7 [==============================] - 0s 12ms/step - loss: 0.6444 - accuracy: 0.5469 - val_loss: 0.5960 - val_accuracy: 0.6875\n",
      "Epoch 21/30\n",
      "7/7 [==============================] - 0s 12ms/step - loss: 0.6427 - accuracy: 0.5469 - val_loss: 0.5944 - val_accuracy: 0.6875\n",
      "Epoch 22/30\n",
      "7/7 [==============================] - 0s 22ms/step - loss: 0.6409 - accuracy: 0.5312 - val_loss: 0.5940 - val_accuracy: 0.6875\n",
      "Epoch 23/30\n",
      "7/7 [==============================] - 0s 17ms/step - loss: 0.6402 - accuracy: 0.5312 - val_loss: 0.5937 - val_accuracy: 0.6875\n",
      "Epoch 24/30\n",
      "7/7 [==============================] - 0s 16ms/step - loss: 0.6398 - accuracy: 0.5312 - val_loss: 0.5931 - val_accuracy: 0.6875\n",
      "Epoch 25/30\n",
      "7/7 [==============================] - 0s 11ms/step - loss: 0.6386 - accuracy: 0.5312 - val_loss: 0.5928 - val_accuracy: 0.6875\n",
      "Epoch 26/30\n",
      "7/7 [==============================] - 0s 13ms/step - loss: 0.6382 - accuracy: 0.5312 - val_loss: 0.5931 - val_accuracy: 0.6875\n",
      "Epoch 27/30\n",
      "7/7 [==============================] - 0s 13ms/step - loss: 0.6374 - accuracy: 0.5312 - val_loss: 0.5928 - val_accuracy: 0.6875\n",
      "Epoch 28/30\n",
      "7/7 [==============================] - 0s 13ms/step - loss: 0.6366 - accuracy: 0.5312 - val_loss: 0.5928 - val_accuracy: 0.6875\n",
      "Epoch 29/30\n",
      "7/7 [==============================] - 0s 13ms/step - loss: 0.6356 - accuracy: 0.5469 - val_loss: 0.5926 - val_accuracy: 0.6875\n",
      "Epoch 30/30\n",
      "7/7 [==============================] - 0s 19ms/step - loss: 0.6349 - accuracy: 0.5625 - val_loss: 0.5929 - val_accuracy: 0.6875\n"
     ]
    }
   ],
   "source": [
    "history=model.fit(x_trainf,y_train,batch_size=10,epochs=30,validation_split=0.2)"
   ]
  },
  {
   "cell_type": "code",
   "execution_count": 138,
   "id": "2a181d55",
   "metadata": {},
   "outputs": [],
   "source": [
    "y_pred=model.predict(x_testf)"
   ]
  },
  {
   "cell_type": "code",
   "execution_count": 139,
   "id": "c01fbe09",
   "metadata": {},
   "outputs": [],
   "source": [
    "y_predf=np.where(y_pred>0.5,1,0)"
   ]
  },
  {
   "cell_type": "code",
   "execution_count": 140,
   "id": "ec7a113d",
   "metadata": {},
   "outputs": [
    {
     "data": {
      "text/plain": [
       "0.7"
      ]
     },
     "execution_count": 140,
     "metadata": {},
     "output_type": "execute_result"
    }
   ],
   "source": [
    "from sklearn.metrics import accuracy_score\n",
    "accuracy_score(y_test,y_predf)"
   ]
  },
  {
   "cell_type": "code",
   "execution_count": 141,
   "id": "1564eca9",
   "metadata": {},
   "outputs": [
    {
     "data": {
      "text/plain": [
       "[<matplotlib.lines.Line2D at 0x188623835e0>]"
      ]
     },
     "execution_count": 141,
     "metadata": {},
     "output_type": "execute_result"
    },
    {
     "data": {
      "image/png": "[encoded data removed]",
      "text/plain": [
       "<Figure size 432x288 with 1 Axes>"
      ]
     },
     "metadata": {
      "needs_background": "light"
     },
     "output_type": "display_data"
    }
   ],
   "source": [
    "plt.plot(history.history[\"loss\"])\n",
    "plt.plot(history.history[\"val_loss\"])"
   ]
  },
  {
   "cell_type": "code",
   "execution_count": 142,
   "id": "687577f9",
   "metadata": {},
   "outputs": [
    {
     "data": {
      "text/plain": [
       "<AxesSubplot:>"
      ]
     },
     "execution_count": 142,
     "metadata": {},
     "output_type": "execute_result"
    },
    {
     "data": {
      "image/png": "[encoded data removed]",
      "text/plain": [
       "<Figure size 432x288 with 1 Axes>"
      ]
     },
     "metadata": {
      "needs_background": "light"
     },
     "output_type": "display_data"
    }
   ],
   "source": [
    "plot_decision_regions(data[[0,1]].values,data[2].values.astype(int),clf=model)"
   ]
  },
  {
   "cell_type": "code",
   "execution_count": 143,
   "id": "404c46d1",
   "metadata": {},
   "outputs": [
    {
     "data": {
      "text/plain": [
       "<AxesSubplot:>"
      ]
     },
     "execution_count": 143,
     "metadata": {},
     "output_type": "execute_result"
    },
    {
     "data": {
      "image/png": "[encoded data removed]",
      "text/plain": [
       "<Figure size 432x288 with 1 Axes>"
      ]
     },
     "metadata": {
      "needs_background": "light"
     },
     "output_type": "display_data"
    }
   ],
   "source": [
    "plot_decision_regions(x_testf,y_test.values.astype(int),clf=model)"
   ]
  },
  {
   "cell_type": "markdown",
   "id": "bc383f56",
   "metadata": {},
   "source": [
    "# Relu Act Fn with adam optimizer"
   ]
  },
  {
   "cell_type": "code",
   "execution_count": 124,
   "id": "192d1c66",
   "metadata": {},
   "outputs": [],
   "source": [
    "model=Sequential()\n",
    "model.add(Dense(3,activation=\"relu\",input_dim=2))\n",
    "\n",
    "model.add(Dense(4,activation=\"relu\"))\n",
    "\n",
    "model.add(Dense(1,activation=\"sigmoid\"))"
   ]
  },
  {
   "cell_type": "code",
   "execution_count": 125,
   "id": "93263576",
   "metadata": {},
   "outputs": [
    {
     "name": "stdout",
     "output_type": "stream",
     "text": [
      "Model: \"sequential_10\"\n",
      "_________________________________________________________________\n",
      " Layer (type)                Output Shape              Param #   \n",
      "=================================================================\n",
      " dense_30 (Dense)            (None, 3)                 9         \n",
      "                                                                 \n",
      " dense_31 (Dense)            (None, 4)                 16        \n",
      "                                                                 \n",
      " dense_32 (Dense)            (None, 1)                 5         \n",
      "                                                                 \n",
      "=================================================================\n",
      "Total params: 30\n",
      "Trainable params: 30\n",
      "Non-trainable params: 0\n",
      "_________________________________________________________________\n"
     ]
    }
   ],
   "source": [
    "model.summary()"
   ]
  },
  {
   "cell_type": "code",
   "execution_count": 126,
   "id": "a05896d5",
   "metadata": {},
   "outputs": [],
   "source": [
    "model.compile(optimizer=\"adam\",loss=\"binary_crossentropy\",metrics=[\"accuracy\"])"
   ]
  },
  {
   "cell_type": "code",
   "execution_count": 127,
   "id": "98d2fd1d",
   "metadata": {},
   "outputs": [
    {
     "name": "stdout",
     "output_type": "stream",
     "text": [
      "Epoch 1/20\n",
      "7/7 [==============================] - 1s 51ms/step - loss: 0.7875 - accuracy: 0.4844 - val_loss: 0.6232 - val_accuracy: 0.6250\n",
      "Epoch 2/20\n",
      "7/7 [==============================] - 0s 12ms/step - loss: 0.7787 - accuracy: 0.4844 - val_loss: 0.6297 - val_accuracy: 0.6250\n",
      "Epoch 3/20\n",
      "7/7 [==============================] - 0s 11ms/step - loss: 0.7705 - accuracy: 0.4844 - val_loss: 0.6362 - val_accuracy: 0.6250\n",
      "Epoch 4/20\n",
      "7/7 [==============================] - 0s 13ms/step - loss: 0.7622 - accuracy: 0.4844 - val_loss: 0.6422 - val_accuracy: 0.6250\n",
      "Epoch 5/20\n",
      "7/7 [==============================] - 0s 11ms/step - loss: 0.7565 - accuracy: 0.4844 - val_loss: 0.6486 - val_accuracy: 0.5625\n",
      "Epoch 6/20\n",
      "7/7 [==============================] - 0s 11ms/step - loss: 0.7487 - accuracy: 0.4688 - val_loss: 0.6531 - val_accuracy: 0.5625\n",
      "Epoch 7/20\n",
      "7/7 [==============================] - 0s 12ms/step - loss: 0.7443 - accuracy: 0.4688 - val_loss: 0.6586 - val_accuracy: 0.4375\n",
      "Epoch 8/20\n",
      "7/7 [==============================] - 0s 12ms/step - loss: 0.7388 - accuracy: 0.4844 - val_loss: 0.6635 - val_accuracy: 0.4375\n",
      "Epoch 9/20\n",
      "7/7 [==============================] - 0s 12ms/step - loss: 0.7353 - accuracy: 0.4531 - val_loss: 0.6700 - val_accuracy: 0.4375\n",
      "Epoch 10/20\n",
      "7/7 [==============================] - 0s 12ms/step - loss: 0.7299 - accuracy: 0.4688 - val_loss: 0.6753 - val_accuracy: 0.4375\n",
      "Epoch 11/20\n",
      "7/7 [==============================] - 0s 12ms/step - loss: 0.7264 - accuracy: 0.4531 - val_loss: 0.6800 - val_accuracy: 0.3750\n",
      "Epoch 12/20\n",
      "7/7 [==============================] - 0s 11ms/step - loss: 0.7231 - accuracy: 0.4219 - val_loss: 0.6857 - val_accuracy: 0.4375\n",
      "Epoch 13/20\n",
      "7/7 [==============================] - 0s 11ms/step - loss: 0.7188 - accuracy: 0.4062 - val_loss: 0.6895 - val_accuracy: 0.4375\n",
      "Epoch 14/20\n",
      "7/7 [==============================] - 0s 11ms/step - loss: 0.7169 - accuracy: 0.3750 - val_loss: 0.6957 - val_accuracy: 0.3125\n",
      "Epoch 15/20\n",
      "7/7 [==============================] - 0s 11ms/step - loss: 0.7135 - accuracy: 0.3125 - val_loss: 0.7000 - val_accuracy: 0.2500\n",
      "Epoch 16/20\n",
      "7/7 [==============================] - 0s 11ms/step - loss: 0.7114 - accuracy: 0.3125 - val_loss: 0.7035 - val_accuracy: 0.2500\n",
      "Epoch 17/20\n",
      "7/7 [==============================] - 0s 11ms/step - loss: 0.7088 - accuracy: 0.3125 - val_loss: 0.7075 - val_accuracy: 0.2500\n",
      "Epoch 18/20\n",
      "7/7 [==============================] - 0s 10ms/step - loss: 0.7067 - accuracy: 0.3438 - val_loss: 0.7119 - val_accuracy: 0.3125\n",
      "Epoch 19/20\n",
      "7/7 [==============================] - 0s 11ms/step - loss: 0.7048 - accuracy: 0.3594 - val_loss: 0.7158 - val_accuracy: 0.2500\n",
      "Epoch 20/20\n",
      "7/7 [==============================] - 0s 11ms/step - loss: 0.7031 - accuracy: 0.3906 - val_loss: 0.7193 - val_accuracy: 0.2500\n"
     ]
    }
   ],
   "source": [
    "history=model.fit(x_trainf,y_train,batch_size=10,epochs=20,validation_split=0.2)"
   ]
  },
  {
   "cell_type": "code",
   "execution_count": 128,
   "id": "fa7441b5",
   "metadata": {},
   "outputs": [],
   "source": [
    "y_pred=model.predict(x_testf)"
   ]
  },
  {
   "cell_type": "code",
   "execution_count": 129,
   "id": "763975c2",
   "metadata": {},
   "outputs": [],
   "source": [
    "y_predf=np.where(y_pred>0.5,1,0)"
   ]
  },
  {
   "cell_type": "code",
   "execution_count": 130,
   "id": "4255d3b5",
   "metadata": {},
   "outputs": [
    {
     "data": {
      "text/plain": [
       "0.35"
      ]
     },
     "execution_count": 130,
     "metadata": {},
     "output_type": "execute_result"
    }
   ],
   "source": [
    "from sklearn.metrics import accuracy_score\n",
    "accuracy_score(y_test,y_predf)"
   ]
  },
  {
   "cell_type": "code",
   "execution_count": 131,
   "id": "1ce2becb",
   "metadata": {},
   "outputs": [
    {
     "data": {
      "text/plain": [
       "[<matplotlib.lines.Line2D at 0x18861f36cd0>]"
      ]
     },
     "execution_count": 131,
     "metadata": {},
     "output_type": "execute_result"
    },
    {
     "data": {
      "image/png": "[encoded data removed]",
      "text/plain": [
       "<Figure size 432x288 with 1 Axes>"
      ]
     },
     "metadata": {
      "needs_background": "light"
     },
     "output_type": "display_data"
    }
   ],
   "source": [
    "plt.plot(history.history[\"loss\"])\n",
    "plt.plot(history.history[\"val_loss\"])"
   ]
  },
  {
   "cell_type": "code",
   "execution_count": 132,
   "id": "f463f727",
   "metadata": {},
   "outputs": [
    {
     "data": {
      "text/plain": [
       "<AxesSubplot:>"
      ]
     },
     "execution_count": 132,
     "metadata": {},
     "output_type": "execute_result"
    },
    {
     "data": {
      "image/png": "[encoded data removed]",
      "text/plain": [
       "<Figure size 432x288 with 1 Axes>"
      ]
     },
     "metadata": {
      "needs_background": "light"
     },
     "output_type": "display_data"
    }
   ],
   "source": [
    "plot_decision_regions(data[[0,1]].values,data[2].values.astype(int),clf=model)"
   ]
  },
  {
   "cell_type": "code",
   "execution_count": 133,
   "id": "2313c0c9",
   "metadata": {},
   "outputs": [
    {
     "data": {
      "text/plain": [
       "<AxesSubplot:>"
      ]
     },
     "execution_count": 133,
     "metadata": {},
     "output_type": "execute_result"
    },
    {
     "data": {
      "image/png": "[encoded data removed]",
      "text/plain": [
       "<Figure size 432x288 with 1 Axes>"
      ]
     },
     "metadata": {
      "needs_background": "light"
     },
     "output_type": "display_data"
    }
   ],
   "source": [
    "plot_decision_regions(x_testf,y_test.values.astype(int),clf=model)"
   ]
  },
  {
   "cell_type": "markdown",
   "id": "58c24dbe",
   "metadata": {},
   "source": [
    "# Conclusion"
   ]
  },
  {
   "cell_type": "raw",
   "id": "c3114b83",
   "metadata": {},
   "source": [
    "We have done 80% and 20% train test split\n",
    "In train split again we splitted 80% and 20% as validation and train split\n",
    "\n",
    "Used Sigmoid, Tanh, Relu activation fns.\n",
    "and also used Adam and sgd optimzers.\n",
    "Changed the n. of epochs according to the best accuracy of each model.\n",
    "\n",
    "SIGMOID\n",
    "For sigmoid fn with sgd optimizer accuracy score is 0.55 and validation loss and train loss is just 0.002 apart which means model is trained approximately well\n",
    "For sigmoid fn with adam optimizer accuracy score is 0.45 and validation loss and train loss is just 0.2 apart which means model is trained approximately well\n",
    "\n",
    "Tanh\n",
    "For Tanh fn with sgd optimizer accuracy score is 0.6 and validation loss and train loss differ a lot which means model is not trained well\n",
    "For Tanh fn with adam optimizer accuracy score is 0.35 and validation loss and train loss differ a lot which means model is not trained well\n",
    "\n",
    "Relu\n",
    "For Relu fn with sgd optimizer accuracy score is 0.7 and validation loss and train loss is just 0.03 apart which means model is trained approximately well\n",
    "For Relu fn with adam optimizer accuracy score is 0.35 and validation loss and train loss differ a lot which means model is not trained well\n"
   ]
  },
  {
   "cell_type": "markdown",
   "id": "f3fbd8b8",
   "metadata": {},
   "source": [
    "### For this Dataset \"concerticcir1\" Relu Activation Function with sgd optimizer is working well and with sigmoid Activation Functions model is trained very well We can use both"
   ]
  }
 ],
 "metadata": {
  "kernelspec": {
   "display_name": "Python 3 (ipykernel)",
   "language": "python",
   "name": "python3"
  },
  "language_info": {
   "codemirror_mode": {
    "name": "ipython",
    "version": 3
   },
   "file_extension": ".py",
   "mimetype": "text/x-python",
   "name": "python",
   "nbconvert_exporter": "python",
   "pygments_lexer": "ipython3",
   "version": "3.9.7"
  }
 },
 "nbformat": 4,
 "nbformat_minor": 5
}
