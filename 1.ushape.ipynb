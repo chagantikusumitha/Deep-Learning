{
 "cells": [
  {
   "cell_type": "code",
   "execution_count": 1,
   "id": "4ae1b039",
   "metadata": {},
   "outputs": [],
   "source": [
    "import pandas as pd\n",
    "import numpy as np\n",
    "import matplotlib.pyplot as plt\n",
    "import seaborn as sns"
   ]
  },
  {
   "cell_type": "code",
   "execution_count": 9,
   "id": "4bd5971d",
   "metadata": {},
   "outputs": [],
   "source": [
    "data=pd.read_csv(\"1.ushape.csv\",header=None)"
   ]
  },
  {
   "cell_type": "code",
   "execution_count": 10,
   "id": "4a83c482",
   "metadata": {},
   "outputs": [
    {
     "data": {
      "text/html": [
       "<div>\n",
       "<style scoped>\n",
       "    .dataframe tbody tr th:only-of-type {\n",
       "        vertical-align: middle;\n",
       "    }\n",
       "\n",
       "    .dataframe tbody tr th {\n",
       "        vertical-align: top;\n",
       "    }\n",
       "\n",
       "    .dataframe thead th {\n",
       "        text-align: right;\n",
       "    }\n",
       "</style>\n",
       "<table border=\"1\" class=\"dataframe\">\n",
       "  <thead>\n",
       "    <tr style=\"text-align: right;\">\n",
       "      <th></th>\n",
       "      <th>0</th>\n",
       "      <th>1</th>\n",
       "      <th>2</th>\n",
       "    </tr>\n",
       "  </thead>\n",
       "  <tbody>\n",
       "    <tr>\n",
       "      <th>0</th>\n",
       "      <td>0.031595</td>\n",
       "      <td>0.986988</td>\n",
       "      <td>0.0</td>\n",
       "    </tr>\n",
       "    <tr>\n",
       "      <th>1</th>\n",
       "      <td>2.115098</td>\n",
       "      <td>-0.046244</td>\n",
       "      <td>1.0</td>\n",
       "    </tr>\n",
       "    <tr>\n",
       "      <th>2</th>\n",
       "      <td>0.882490</td>\n",
       "      <td>-0.075756</td>\n",
       "      <td>0.0</td>\n",
       "    </tr>\n",
       "    <tr>\n",
       "      <th>3</th>\n",
       "      <td>-0.055144</td>\n",
       "      <td>-0.037332</td>\n",
       "      <td>1.0</td>\n",
       "    </tr>\n",
       "    <tr>\n",
       "      <th>4</th>\n",
       "      <td>0.829545</td>\n",
       "      <td>-0.539321</td>\n",
       "      <td>1.0</td>\n",
       "    </tr>\n",
       "  </tbody>\n",
       "</table>\n",
       "</div>"
      ],
      "text/plain": [
       "          0         1    2\n",
       "0  0.031595  0.986988  0.0\n",
       "1  2.115098 -0.046244  1.0\n",
       "2  0.882490 -0.075756  0.0\n",
       "3 -0.055144 -0.037332  1.0\n",
       "4  0.829545 -0.539321  1.0"
      ]
     },
     "execution_count": 10,
     "metadata": {},
     "output_type": "execute_result"
    }
   ],
   "source": [
    "data.head()"
   ]
  },
  {
   "cell_type": "code",
   "execution_count": 11,
   "id": "d6b93431",
   "metadata": {},
   "outputs": [
    {
     "data": {
      "text/plain": [
       "(100, 3)"
      ]
     },
     "execution_count": 11,
     "metadata": {},
     "output_type": "execute_result"
    }
   ],
   "source": [
    "data.shape"
   ]
  },
  {
   "cell_type": "code",
   "execution_count": 12,
   "id": "bb695f20",
   "metadata": {},
   "outputs": [
    {
     "data": {
      "text/plain": [
       "0.0    50\n",
       "1.0    50\n",
       "Name: 2, dtype: int64"
      ]
     },
     "execution_count": 12,
     "metadata": {},
     "output_type": "execute_result"
    }
   ],
   "source": [
    "data[2].value_counts()"
   ]
  },
  {
   "cell_type": "markdown",
   "id": "14f04e88",
   "metadata": {},
   "source": [
    "Balanced data"
   ]
  },
  {
   "cell_type": "code",
   "execution_count": 181,
   "id": "31c4fc77",
   "metadata": {},
   "outputs": [
    {
     "name": "stdout",
     "output_type": "stream",
     "text": [
      "<class 'pandas.core.frame.DataFrame'>\n",
      "RangeIndex: 100 entries, 0 to 99\n",
      "Data columns (total 3 columns):\n",
      " #   Column  Non-Null Count  Dtype  \n",
      "---  ------  --------------  -----  \n",
      " 0   0       100 non-null    float64\n",
      " 1   1       100 non-null    float64\n",
      " 2   2       100 non-null    float64\n",
      "dtypes: float64(3)\n",
      "memory usage: 2.5 KB\n"
     ]
    }
   ],
   "source": [
    "data.info()"
   ]
  },
  {
   "cell_type": "code",
   "execution_count": 182,
   "id": "20cfa0b8",
   "metadata": {},
   "outputs": [
    {
     "data": {
      "text/html": [
       "<div>\n",
       "<style scoped>\n",
       "    .dataframe tbody tr th:only-of-type {\n",
       "        vertical-align: middle;\n",
       "    }\n",
       "\n",
       "    .dataframe tbody tr th {\n",
       "        vertical-align: top;\n",
       "    }\n",
       "\n",
       "    .dataframe thead th {\n",
       "        text-align: right;\n",
       "    }\n",
       "</style>\n",
       "<table border=\"1\" class=\"dataframe\">\n",
       "  <thead>\n",
       "    <tr style=\"text-align: right;\">\n",
       "      <th></th>\n",
       "      <th>0</th>\n",
       "      <th>1</th>\n",
       "    </tr>\n",
       "  </thead>\n",
       "  <tbody>\n",
       "    <tr>\n",
       "      <th>0</th>\n",
       "      <td>0.031595</td>\n",
       "      <td>0.986988</td>\n",
       "    </tr>\n",
       "    <tr>\n",
       "      <th>1</th>\n",
       "      <td>2.115098</td>\n",
       "      <td>-0.046244</td>\n",
       "    </tr>\n",
       "    <tr>\n",
       "      <th>2</th>\n",
       "      <td>0.882490</td>\n",
       "      <td>-0.075756</td>\n",
       "    </tr>\n",
       "    <tr>\n",
       "      <th>3</th>\n",
       "      <td>-0.055144</td>\n",
       "      <td>-0.037332</td>\n",
       "    </tr>\n",
       "    <tr>\n",
       "      <th>4</th>\n",
       "      <td>0.829545</td>\n",
       "      <td>-0.539321</td>\n",
       "    </tr>\n",
       "    <tr>\n",
       "      <th>...</th>\n",
       "      <td>...</td>\n",
       "      <td>...</td>\n",
       "    </tr>\n",
       "    <tr>\n",
       "      <th>95</th>\n",
       "      <td>1.699453</td>\n",
       "      <td>0.587720</td>\n",
       "    </tr>\n",
       "    <tr>\n",
       "      <th>96</th>\n",
       "      <td>0.218623</td>\n",
       "      <td>-0.652521</td>\n",
       "    </tr>\n",
       "    <tr>\n",
       "      <th>97</th>\n",
       "      <td>0.952914</td>\n",
       "      <td>-0.419766</td>\n",
       "    </tr>\n",
       "    <tr>\n",
       "      <th>98</th>\n",
       "      <td>-1.318500</td>\n",
       "      <td>0.423112</td>\n",
       "    </tr>\n",
       "    <tr>\n",
       "      <th>99</th>\n",
       "      <td>-1.296818</td>\n",
       "      <td>0.184147</td>\n",
       "    </tr>\n",
       "  </tbody>\n",
       "</table>\n",
       "<p>100 rows × 2 columns</p>\n",
       "</div>"
      ],
      "text/plain": [
       "           0         1\n",
       "0   0.031595  0.986988\n",
       "1   2.115098 -0.046244\n",
       "2   0.882490 -0.075756\n",
       "3  -0.055144 -0.037332\n",
       "4   0.829545 -0.539321\n",
       "..       ...       ...\n",
       "95  1.699453  0.587720\n",
       "96  0.218623 -0.652521\n",
       "97  0.952914 -0.419766\n",
       "98 -1.318500  0.423112\n",
       "99 -1.296818  0.184147\n",
       "\n",
       "[100 rows x 2 columns]"
      ]
     },
     "execution_count": 182,
     "metadata": {},
     "output_type": "execute_result"
    }
   ],
   "source": [
    "data[[0,1]]"
   ]
  },
  {
   "cell_type": "code",
   "execution_count": 183,
   "id": "c177e35e",
   "metadata": {},
   "outputs": [
    {
     "name": "stderr",
     "output_type": "stream",
     "text": [
      "C:\\Users\\kusumitha\\anaconda3\\lib\\site-packages\\seaborn\\_decorators.py:36: FutureWarning: Pass the following variables as keyword args: x, y. From version 0.12, the only valid positional argument will be `data`, and passing other arguments without an explicit keyword will result in an error or misinterpretation.\n",
      "  warnings.warn(\n"
     ]
    },
    {
     "data": {
      "text/plain": [
       "<AxesSubplot:xlabel='0', ylabel='1'>"
      ]
     },
     "execution_count": 183,
     "metadata": {},
     "output_type": "execute_result"
    },
    {
     "data": {
      "image/png": "[encoded data removed]",
      "text/plain": [
       "<Figure size 432x288 with 1 Axes>"
      ]
     },
     "metadata": {
      "needs_background": "light"
     },
     "output_type": "display_data"
    }
   ],
   "source": [
    "sns.scatterplot(data[0],data[1],hue=data[2])"
   ]
  },
  {
   "cell_type": "code",
   "execution_count": 90,
   "id": "adc29632",
   "metadata": {},
   "outputs": [
    {
     "name": "stdout",
     "output_type": "stream",
     "text": [
      "(80, 2) (80,)\n",
      "(20, 2) (20,)\n"
     ]
    }
   ],
   "source": [
    "from sklearn.model_selection import train_test_split\n",
    "x_train,x_test,y_train,y_test=train_test_split(data[[0,1]],data[2],test_size=0.2)\n",
    "print(x_train.shape, y_train.shape)\n",
    "print(x_test.shape, y_test.shape)"
   ]
  },
  {
   "cell_type": "code",
   "execution_count": 91,
   "id": "d0d2f020",
   "metadata": {},
   "outputs": [],
   "source": [
    "import tensorflow \n",
    "from tensorflow import keras\n",
    "from keras.models import Sequential\n",
    "from keras.layers import Dense"
   ]
  },
  {
   "cell_type": "markdown",
   "id": "7096cd9a",
   "metadata": {},
   "source": [
    "Rescaling X test and X_train"
   ]
  },
  {
   "cell_type": "code",
   "execution_count": 92,
   "id": "945a0921",
   "metadata": {},
   "outputs": [
    {
     "data": {
      "text/html": [
       "<div>\n",
       "<style scoped>\n",
       "    .dataframe tbody tr th:only-of-type {\n",
       "        vertical-align: middle;\n",
       "    }\n",
       "\n",
       "    .dataframe tbody tr th {\n",
       "        vertical-align: top;\n",
       "    }\n",
       "\n",
       "    .dataframe thead th {\n",
       "        text-align: right;\n",
       "    }\n",
       "</style>\n",
       "<table border=\"1\" class=\"dataframe\">\n",
       "  <thead>\n",
       "    <tr style=\"text-align: right;\">\n",
       "      <th></th>\n",
       "      <th>0</th>\n",
       "      <th>1</th>\n",
       "    </tr>\n",
       "  </thead>\n",
       "  <tbody>\n",
       "    <tr>\n",
       "      <th>0</th>\n",
       "      <td>-1.545278</td>\n",
       "      <td>0.606284</td>\n",
       "    </tr>\n",
       "    <tr>\n",
       "      <th>1</th>\n",
       "      <td>0.464310</td>\n",
       "      <td>-0.557112</td>\n",
       "    </tr>\n",
       "    <tr>\n",
       "      <th>2</th>\n",
       "      <td>1.172940</td>\n",
       "      <td>-0.605503</td>\n",
       "    </tr>\n",
       "    <tr>\n",
       "      <th>3</th>\n",
       "      <td>-1.608566</td>\n",
       "      <td>0.399034</td>\n",
       "    </tr>\n",
       "    <tr>\n",
       "      <th>4</th>\n",
       "      <td>1.192585</td>\n",
       "      <td>-1.660364</td>\n",
       "    </tr>\n",
       "  </tbody>\n",
       "</table>\n",
       "</div>"
      ],
      "text/plain": [
       "          0         1\n",
       "0 -1.545278  0.606284\n",
       "1  0.464310 -0.557112\n",
       "2  1.172940 -0.605503\n",
       "3 -1.608566  0.399034\n",
       "4  1.192585 -1.660364"
      ]
     },
     "execution_count": 92,
     "metadata": {},
     "output_type": "execute_result"
    }
   ],
   "source": [
    "from sklearn.preprocessing import StandardScaler\n",
    "std=StandardScaler()\n",
    "x_trainf=std.fit_transform(x_train)\n",
    "x_testf=std.transform(x_test)\n",
    "pd.DataFrame(x_trainf).head()"
   ]
  },
  {
   "cell_type": "markdown",
   "id": "804e06b4",
   "metadata": {},
   "source": [
    "# Sigmoid Activation Fn sgd optimizer"
   ]
  },
  {
   "cell_type": "code",
   "execution_count": 93,
   "id": "2db79b2c",
   "metadata": {},
   "outputs": [],
   "source": [
    "model=Sequential()\n",
    "model.add(Dense(3,activation=\"sigmoid\",input_dim=2))\n",
    "\n",
    "model.add(Dense(4,activation=\"sigmoid\"))\n",
    "\n",
    "model.add(Dense(1,activation=\"sigmoid\"))"
   ]
  },
  {
   "cell_type": "code",
   "execution_count": 94,
   "id": "03a2d565",
   "metadata": {},
   "outputs": [
    {
     "name": "stdout",
     "output_type": "stream",
     "text": [
      "Model: \"sequential_6\"\n",
      "_________________________________________________________________\n",
      " Layer (type)                Output Shape              Param #   \n",
      "=================================================================\n",
      " dense_18 (Dense)            (None, 3)                 9         \n",
      "                                                                 \n",
      " dense_19 (Dense)            (None, 4)                 16        \n",
      "                                                                 \n",
      " dense_20 (Dense)            (None, 1)                 5         \n",
      "                                                                 \n",
      "=================================================================\n",
      "Total params: 30\n",
      "Trainable params: 30\n",
      "Non-trainable params: 0\n",
      "_________________________________________________________________\n"
     ]
    }
   ],
   "source": [
    "model.summary()"
   ]
  },
  {
   "cell_type": "markdown",
   "id": "690a4d3a",
   "metadata": {},
   "source": [
    "#We are using Stochastic Gradient Descent\n",
    "And output variable is binary, so we use Binary_cross entropy loss fn."
   ]
  },
  {
   "cell_type": "code",
   "execution_count": 95,
   "id": "0f08a7d5",
   "metadata": {},
   "outputs": [],
   "source": [
    "model.compile(optimizer=\"sgd\",loss=\"binary_crossentropy\",metrics=[\"accuracy\"])"
   ]
  },
  {
   "cell_type": "code",
   "execution_count": 96,
   "id": "09f6ea2b",
   "metadata": {},
   "outputs": [
    {
     "name": "stdout",
     "output_type": "stream",
     "text": [
      "Epoch 1/10\n",
      "7/7 [==============================] - 1s 48ms/step - loss: 0.7295 - accuracy: 0.4688 - val_loss: 0.7060 - val_accuracy: 0.5000\n",
      "Epoch 2/10\n",
      "7/7 [==============================] - 0s 11ms/step - loss: 0.7266 - accuracy: 0.4688 - val_loss: 0.7038 - val_accuracy: 0.5000\n",
      "Epoch 3/10\n",
      "7/7 [==============================] - 0s 11ms/step - loss: 0.7240 - accuracy: 0.4688 - val_loss: 0.7020 - val_accuracy: 0.5000\n",
      "Epoch 4/10\n",
      "7/7 [==============================] - 0s 10ms/step - loss: 0.7221 - accuracy: 0.4688 - val_loss: 0.7001 - val_accuracy: 0.5000\n",
      "Epoch 5/10\n",
      "7/7 [==============================] - 0s 10ms/step - loss: 0.7193 - accuracy: 0.4688 - val_loss: 0.6984 - val_accuracy: 0.5000\n",
      "Epoch 6/10\n",
      "7/7 [==============================] - 0s 10ms/step - loss: 0.7170 - accuracy: 0.4688 - val_loss: 0.6972 - val_accuracy: 0.5000\n",
      "Epoch 7/10\n",
      "7/7 [==============================] - 0s 10ms/step - loss: 0.7155 - accuracy: 0.4688 - val_loss: 0.6960 - val_accuracy: 0.5000\n",
      "Epoch 8/10\n",
      "7/7 [==============================] - 0s 10ms/step - loss: 0.7138 - accuracy: 0.4688 - val_loss: 0.6949 - val_accuracy: 0.5000\n",
      "Epoch 9/10\n",
      "7/7 [==============================] - 0s 10ms/step - loss: 0.7124 - accuracy: 0.4688 - val_loss: 0.6942 - val_accuracy: 0.5000\n",
      "Epoch 10/10\n",
      "7/7 [==============================] - 0s 10ms/step - loss: 0.7116 - accuracy: 0.4688 - val_loss: 0.6931 - val_accuracy: 0.5000\n"
     ]
    }
   ],
   "source": [
    "history=model.fit(x_trainf,y_train,batch_size=10,epochs=10,validation_split=0.2)"
   ]
  },
  {
   "cell_type": "code",
   "execution_count": 97,
   "id": "2ad00141",
   "metadata": {},
   "outputs": [],
   "source": [
    "y_pred=model.predict(x_testf)"
   ]
  },
  {
   "cell_type": "markdown",
   "id": "d554563d",
   "metadata": {},
   "source": [
    "if y_pred is greater than 0.5 we make it 1 else 0"
   ]
  },
  {
   "cell_type": "code",
   "execution_count": 98,
   "id": "946770e3",
   "metadata": {},
   "outputs": [],
   "source": [
    "y_predf=np.where(y_pred>0.5,1,0)"
   ]
  },
  {
   "cell_type": "code",
   "execution_count": 99,
   "id": "ff026a7d",
   "metadata": {},
   "outputs": [
    {
     "data": {
      "text/plain": [
       "0.6"
      ]
     },
     "execution_count": 99,
     "metadata": {},
     "output_type": "execute_result"
    }
   ],
   "source": [
    "from sklearn.metrics import accuracy_score\n",
    "accuracy_score(y_test,y_predf)"
   ]
  },
  {
   "cell_type": "code",
   "execution_count": 100,
   "id": "d35ca3b0",
   "metadata": {},
   "outputs": [
    {
     "data": {
      "text/plain": [
       "[<matplotlib.lines.Line2D at 0x1fe6766d4c0>]"
      ]
     },
     "execution_count": 100,
     "metadata": {},
     "output_type": "execute_result"
    },
    {
     "data": {
      "image/png": "[encoded data removed]",
      "text/plain": [
       "<Figure size 432x288 with 1 Axes>"
      ]
     },
     "metadata": {
      "needs_background": "light"
     },
     "output_type": "display_data"
    }
   ],
   "source": [
    "plt.plot(history.history[\"loss\"])\n",
    "plt.plot(history.history[\"val_loss\"])"
   ]
  },
  {
   "cell_type": "code",
   "execution_count": 153,
   "id": "32a387da",
   "metadata": {},
   "outputs": [
    {
     "name": "stdout",
     "output_type": "stream",
     "text": [
      "Requirement already satisfied: mlxtend in c:\\users\\kusumitha\\anaconda3\\lib\\site-packages (0.22.0)\n",
      "Requirement already satisfied: setuptools in c:\\users\\kusumitha\\anaconda3\\lib\\site-packages (from mlxtend) (58.0.4)\n",
      "Requirement already satisfied: scikit-learn>=1.0.2 in c:\\users\\kusumitha\\anaconda3\\lib\\site-packages (from mlxtend) (1.2.2)\n",
      "Note: you may need to restart the kernel to use updated packages.\n",
      "Requirement already satisfied: pandas>=0.24.2 in c:\\users\\kusumitha\\anaconda3\\lib\\site-packages (from mlxtend) (1.3.4)\n",
      "Requirement already satisfied: joblib>=0.13.2 in c:\\users\\kusumitha\\anaconda3\\lib\\site-packages (from mlxtend) (1.2.0)\n",
      "Requirement already satisfied: matplotlib>=3.0.0 in c:\\users\\kusumitha\\anaconda3\\lib\\site-packages (from mlxtend) (3.4.3)\n",
      "Requirement already satisfied: numpy>=1.16.2 in c:\\users\\kusumitha\\anaconda3\\lib\\site-packages (from mlxtend) (1.20.3)\n",
      "Requirement already satisfied: scipy>=1.2.1 in c:\\users\\kusumitha\\anaconda3\\lib\\site-packages (from mlxtend) (1.7.1)\n",
      "Requirement already satisfied: cycler>=0.10 in c:\\users\\kusumitha\\anaconda3\\lib\\site-packages (from matplotlib>=3.0.0->mlxtend) (0.10.0)\n",
      "Requirement already satisfied: pillow>=6.2.0 in c:\\users\\kusumitha\\anaconda3\\lib\\site-packages (from matplotlib>=3.0.0->mlxtend) (8.4.0)\n",
      "Requirement already satisfied: pyparsing>=2.2.1 in c:\\users\\kusumitha\\anaconda3\\lib\\site-packages (from matplotlib>=3.0.0->mlxtend) (3.0.4)\n",
      "Requirement already satisfied: python-dateutil>=2.7 in c:\\users\\kusumitha\\anaconda3\\lib\\site-packages (from matplotlib>=3.0.0->mlxtend) (2.8.2)\n",
      "Requirement already satisfied: kiwisolver>=1.0.1 in c:\\users\\kusumitha\\anaconda3\\lib\\site-packages (from matplotlib>=3.0.0->mlxtend) (1.3.1)\n",
      "Requirement already satisfied: six in c:\\users\\kusumitha\\anaconda3\\lib\\site-packages (from cycler>=0.10->matplotlib>=3.0.0->mlxtend) (1.16.0)\n",
      "Requirement already satisfied: pytz>=2017.3 in c:\\users\\kusumitha\\anaconda3\\lib\\site-packages (from pandas>=0.24.2->mlxtend) (2021.3)\n",
      "Requirement already satisfied: threadpoolctl>=2.0.0 in c:\\users\\kusumitha\\anaconda3\\lib\\site-packages (from scikit-learn>=1.0.2->mlxtend) (2.2.0)\n"
     ]
    }
   ],
   "source": [
    "pip install mlxtend"
   ]
  },
  {
   "cell_type": "code",
   "execution_count": 154,
   "id": "678b55d4",
   "metadata": {},
   "outputs": [],
   "source": [
    "import mlxtend"
   ]
  },
  {
   "cell_type": "code",
   "execution_count": 28,
   "id": "f884e715",
   "metadata": {},
   "outputs": [],
   "source": [
    "from mlxtend.plotting import plot_decision_regions"
   ]
  },
  {
   "cell_type": "code",
   "execution_count": 101,
   "id": "d9454f49",
   "metadata": {},
   "outputs": [
    {
     "name": "stdout",
     "output_type": "stream",
     "text": [
      "WARNING:tensorflow:5 out of the last 7782 calls to <function Model.make_predict_function.<locals>.predict_function at 0x000001FE65EE64C0> triggered tf.function retracing. Tracing is expensive and the excessive number of tracings could be due to (1) creating @tf.function repeatedly in a loop, (2) passing tensors with different shapes, (3) passing Python objects instead of tensors. For (1), please define your @tf.function outside of the loop. For (2), @tf.function has experimental_relax_shapes=True option that relaxes argument shapes that can avoid unnecessary retracing. For (3), please refer to https://www.tensorflow.org/guide/function#controlling_retracing and https://www.tensorflow.org/api_docs/python/tf/function for  more details.\n"
     ]
    },
    {
     "name": "stderr",
     "output_type": "stream",
     "text": [
      "C:\\Users\\kusumitha\\anaconda3\\lib\\site-packages\\mlxtend\\plotting\\decision_regions.py:315: UserWarning: No contour levels were found within the data range.\n",
      "  ax.contour(xx, yy, Z, cset.levels, **contour_kwargs)\n"
     ]
    },
    {
     "data": {
      "text/plain": [
       "<AxesSubplot:>"
      ]
     },
     "execution_count": 101,
     "metadata": {},
     "output_type": "execute_result"
    },
    {
     "data": {
      "image/png": "[encoded data removed]",
      "text/plain": [
       "<Figure size 432x288 with 1 Axes>"
      ]
     },
     "metadata": {
      "needs_background": "light"
     },
     "output_type": "display_data"
    }
   ],
   "source": [
    "plot_decision_regions(data[[0,1]].values,data[2].values.astype(int),clf=model)"
   ]
  },
  {
   "cell_type": "code",
   "execution_count": 102,
   "id": "351048b0",
   "metadata": {},
   "outputs": [
    {
     "data": {
      "text/plain": [
       "<AxesSubplot:>"
      ]
     },
     "execution_count": 102,
     "metadata": {},
     "output_type": "execute_result"
    },
    {
     "data": {
      "image/png": "[encoded data removed]",
      "text/plain": [
       "<Figure size 432x288 with 1 Axes>"
      ]
     },
     "metadata": {
      "needs_background": "light"
     },
     "output_type": "display_data"
    }
   ],
   "source": [
    "plot_decision_regions(x_testf,y_test.values.astype(int),clf=model)"
   ]
  },
  {
   "cell_type": "markdown",
   "id": "2d8d5ffb",
   "metadata": {},
   "source": [
    "# Sigmoid Fn with optimizer adam"
   ]
  },
  {
   "cell_type": "code",
   "execution_count": 59,
   "id": "6edc10a6",
   "metadata": {},
   "outputs": [],
   "source": [
    "model=Sequential()\n",
    "model.add(Dense(3,activation=\"sigmoid\",input_dim=2))\n",
    "\n",
    "model.add(Dense(4,activation=\"sigmoid\"))\n",
    "\n",
    "model.add(Dense(1,activation=\"sigmoid\"))"
   ]
  },
  {
   "cell_type": "code",
   "execution_count": 60,
   "id": "60bd377d",
   "metadata": {},
   "outputs": [
    {
     "name": "stdout",
     "output_type": "stream",
     "text": [
      "Model: \"sequential_4\"\n",
      "_________________________________________________________________\n",
      " Layer (type)                Output Shape              Param #   \n",
      "=================================================================\n",
      " dense_12 (Dense)            (None, 3)                 9         \n",
      "                                                                 \n",
      " dense_13 (Dense)            (None, 4)                 16        \n",
      "                                                                 \n",
      " dense_14 (Dense)            (None, 1)                 5         \n",
      "                                                                 \n",
      "=================================================================\n",
      "Total params: 30\n",
      "Trainable params: 30\n",
      "Non-trainable params: 0\n",
      "_________________________________________________________________\n"
     ]
    }
   ],
   "source": [
    "model.summary()"
   ]
  },
  {
   "cell_type": "code",
   "execution_count": 61,
   "id": "7172852f",
   "metadata": {},
   "outputs": [],
   "source": [
    "model.compile(optimizer=\"adam\",loss=\"binary_crossentropy\",metrics=[\"accuracy\"])"
   ]
  },
  {
   "cell_type": "code",
   "execution_count": 62,
   "id": "c7ecbbc8",
   "metadata": {},
   "outputs": [
    {
     "name": "stdout",
     "output_type": "stream",
     "text": [
      "Epoch 1/20\n",
      "7/7 [==============================] - 1s 49ms/step - loss: 0.7026 - accuracy: 0.4844 - val_loss: 0.6435 - val_accuracy: 0.6250\n",
      "Epoch 2/20\n",
      "7/7 [==============================] - 0s 10ms/step - loss: 0.6989 - accuracy: 0.4844 - val_loss: 0.6430 - val_accuracy: 0.6250\n",
      "Epoch 3/20\n",
      "7/7 [==============================] - 0s 11ms/step - loss: 0.6949 - accuracy: 0.4844 - val_loss: 0.6426 - val_accuracy: 0.6250\n",
      "Epoch 4/20\n",
      "7/7 [==============================] - 0s 10ms/step - loss: 0.6910 - accuracy: 0.4844 - val_loss: 0.6422 - val_accuracy: 0.6250\n",
      "Epoch 5/20\n",
      "7/7 [==============================] - 0s 10ms/step - loss: 0.6880 - accuracy: 0.4844 - val_loss: 0.6420 - val_accuracy: 0.6250\n",
      "Epoch 6/20\n",
      "7/7 [==============================] - 0s 11ms/step - loss: 0.6844 - accuracy: 0.4844 - val_loss: 0.6419 - val_accuracy: 0.6250\n",
      "Epoch 7/20\n",
      "7/7 [==============================] - 0s 10ms/step - loss: 0.6811 - accuracy: 0.4844 - val_loss: 0.6417 - val_accuracy: 0.6250\n",
      "Epoch 8/20\n",
      "7/7 [==============================] - 0s 10ms/step - loss: 0.6782 - accuracy: 0.4844 - val_loss: 0.6418 - val_accuracy: 0.6250\n",
      "Epoch 9/20\n",
      "7/7 [==============================] - 0s 11ms/step - loss: 0.6757 - accuracy: 0.4844 - val_loss: 0.6418 - val_accuracy: 0.6250\n",
      "Epoch 10/20\n",
      "7/7 [==============================] - 0s 10ms/step - loss: 0.6731 - accuracy: 0.4844 - val_loss: 0.6417 - val_accuracy: 0.6250\n",
      "Epoch 11/20\n",
      "7/7 [==============================] - 0s 11ms/step - loss: 0.6709 - accuracy: 0.4844 - val_loss: 0.6417 - val_accuracy: 0.6250\n",
      "Epoch 12/20\n",
      "7/7 [==============================] - 0s 11ms/step - loss: 0.6688 - accuracy: 0.4844 - val_loss: 0.6419 - val_accuracy: 0.6250\n",
      "Epoch 13/20\n",
      "7/7 [==============================] - 0s 10ms/step - loss: 0.6667 - accuracy: 0.4844 - val_loss: 0.6420 - val_accuracy: 0.6250\n",
      "Epoch 14/20\n",
      "7/7 [==============================] - 0s 10ms/step - loss: 0.6643 - accuracy: 0.4844 - val_loss: 0.6420 - val_accuracy: 0.6250\n",
      "Epoch 15/20\n",
      "7/7 [==============================] - 0s 11ms/step - loss: 0.6627 - accuracy: 0.4844 - val_loss: 0.6421 - val_accuracy: 0.6250\n",
      "Epoch 16/20\n",
      "7/7 [==============================] - 0s 11ms/step - loss: 0.6607 - accuracy: 0.4844 - val_loss: 0.6419 - val_accuracy: 0.6250\n",
      "Epoch 17/20\n",
      "7/7 [==============================] - 0s 12ms/step - loss: 0.6592 - accuracy: 0.4844 - val_loss: 0.6423 - val_accuracy: 0.6250\n",
      "Epoch 18/20\n",
      "7/7 [==============================] - 0s 11ms/step - loss: 0.6577 - accuracy: 0.4844 - val_loss: 0.6428 - val_accuracy: 0.6250\n",
      "Epoch 19/20\n",
      "7/7 [==============================] - 0s 13ms/step - loss: 0.6553 - accuracy: 0.5000 - val_loss: 0.6430 - val_accuracy: 0.6250\n",
      "Epoch 20/20\n",
      "7/7 [==============================] - 0s 13ms/step - loss: 0.6541 - accuracy: 0.5469 - val_loss: 0.6433 - val_accuracy: 0.6250\n"
     ]
    }
   ],
   "source": [
    "history=model.fit(x_trainf,y_train,batch_size=10,epochs=20,validation_split=0.2)"
   ]
  },
  {
   "cell_type": "code",
   "execution_count": 63,
   "id": "79b18254",
   "metadata": {},
   "outputs": [],
   "source": [
    "y_pred=model.predict(x_testf)"
   ]
  },
  {
   "cell_type": "code",
   "execution_count": 64,
   "id": "37e9b889",
   "metadata": {},
   "outputs": [],
   "source": [
    "y_predf=np.where(y_pred>0.5,1,0)"
   ]
  },
  {
   "cell_type": "code",
   "execution_count": 65,
   "id": "e2ede18f",
   "metadata": {},
   "outputs": [
    {
     "data": {
      "text/plain": [
       "0.65"
      ]
     },
     "execution_count": 65,
     "metadata": {},
     "output_type": "execute_result"
    }
   ],
   "source": [
    "from sklearn.metrics import accuracy_score\n",
    "accuracy_score(y_test,y_predf)"
   ]
  },
  {
   "cell_type": "code",
   "execution_count": 66,
   "id": "e83ea810",
   "metadata": {},
   "outputs": [
    {
     "data": {
      "text/plain": [
       "[<matplotlib.lines.Line2D at 0x1fe674cb4f0>]"
      ]
     },
     "execution_count": 66,
     "metadata": {},
     "output_type": "execute_result"
    },
    {
     "data": {
      "image/png": "[encoded data removed]",
      "text/plain": [
       "<Figure size 432x288 with 1 Axes>"
      ]
     },
     "metadata": {
      "needs_background": "light"
     },
     "output_type": "display_data"
    }
   ],
   "source": [
    "plt.plot(history.history[\"loss\"])\n",
    "plt.plot(history.history[\"val_loss\"])"
   ]
  },
  {
   "cell_type": "code",
   "execution_count": 67,
   "id": "cba1789a",
   "metadata": {},
   "outputs": [
    {
     "data": {
      "text/plain": [
       "<AxesSubplot:>"
      ]
     },
     "execution_count": 67,
     "metadata": {},
     "output_type": "execute_result"
    },
    {
     "data": {
      "image/png": "[encoded data removed]",
      "text/plain": [
       "<Figure size 432x288 with 1 Axes>"
      ]
     },
     "metadata": {
      "needs_background": "light"
     },
     "output_type": "display_data"
    }
   ],
   "source": [
    "plot_decision_regions(data[[0,1]].values,data[2].values.astype(int),clf=model)"
   ]
  },
  {
   "cell_type": "code",
   "execution_count": 68,
   "id": "74dbcee1",
   "metadata": {},
   "outputs": [
    {
     "data": {
      "text/plain": [
       "<AxesSubplot:>"
      ]
     },
     "execution_count": 68,
     "metadata": {},
     "output_type": "execute_result"
    },
    {
     "data": {
      "image/png": "[encoded data removed]",
      "text/plain": [
       "<Figure size 432x288 with 1 Axes>"
      ]
     },
     "metadata": {
      "needs_background": "light"
     },
     "output_type": "display_data"
    }
   ],
   "source": [
    "plot_decision_regions(x_testf,y_test.values.astype(int),clf=model)"
   ]
  },
  {
   "cell_type": "markdown",
   "id": "e61aa1ad",
   "metadata": {},
   "source": [
    "# Tanh Act Fn with sgd optimizer"
   ]
  },
  {
   "cell_type": "code",
   "execution_count": 157,
   "id": "b98fc080",
   "metadata": {},
   "outputs": [],
   "source": [
    "model=Sequential()\n",
    "model.add(Dense(3,activation=\"tanh\",input_dim=2))\n",
    "\n",
    "model.add(Dense(4,activation=\"tanh\"))\n",
    "\n",
    "model.add(Dense(1,activation=\"sigmoid\"))"
   ]
  },
  {
   "cell_type": "code",
   "execution_count": 158,
   "id": "0331b076",
   "metadata": {},
   "outputs": [
    {
     "name": "stdout",
     "output_type": "stream",
     "text": [
      "Model: \"sequential_11\"\n",
      "_________________________________________________________________\n",
      " Layer (type)                Output Shape              Param #   \n",
      "=================================================================\n",
      " dense_33 (Dense)            (None, 3)                 9         \n",
      "                                                                 \n",
      " dense_34 (Dense)            (None, 4)                 16        \n",
      "                                                                 \n",
      " dense_35 (Dense)            (None, 1)                 5         \n",
      "                                                                 \n",
      "=================================================================\n",
      "Total params: 30\n",
      "Trainable params: 30\n",
      "Non-trainable params: 0\n",
      "_________________________________________________________________\n"
     ]
    }
   ],
   "source": [
    "model.summary()"
   ]
  },
  {
   "cell_type": "code",
   "execution_count": 159,
   "id": "0e7ca31b",
   "metadata": {},
   "outputs": [],
   "source": [
    "model.compile(optimizer=\"sgd\",loss=\"binary_crossentropy\",metrics=[\"accuracy\"])"
   ]
  },
  {
   "cell_type": "code",
   "execution_count": 160,
   "id": "97bc9784",
   "metadata": {},
   "outputs": [
    {
     "name": "stdout",
     "output_type": "stream",
     "text": [
      "Epoch 1/10\n",
      "7/7 [==============================] - 1s 48ms/step - loss: 0.5904 - accuracy: 0.8125 - val_loss: 0.6224 - val_accuracy: 0.6875\n",
      "Epoch 2/10\n",
      "7/7 [==============================] - 0s 10ms/step - loss: 0.5841 - accuracy: 0.8125 - val_loss: 0.6189 - val_accuracy: 0.6875\n",
      "Epoch 3/10\n",
      "7/7 [==============================] - 0s 10ms/step - loss: 0.5778 - accuracy: 0.8281 - val_loss: 0.6150 - val_accuracy: 0.6875\n",
      "Epoch 4/10\n",
      "7/7 [==============================] - 0s 10ms/step - loss: 0.5714 - accuracy: 0.8281 - val_loss: 0.6112 - val_accuracy: 0.6875\n",
      "Epoch 5/10\n",
      "7/7 [==============================] - 0s 10ms/step - loss: 0.5651 - accuracy: 0.8281 - val_loss: 0.6078 - val_accuracy: 0.6875\n",
      "Epoch 6/10\n",
      "7/7 [==============================] - 0s 10ms/step - loss: 0.5597 - accuracy: 0.8281 - val_loss: 0.6042 - val_accuracy: 0.6875\n",
      "Epoch 7/10\n",
      "7/7 [==============================] - 0s 10ms/step - loss: 0.5538 - accuracy: 0.8438 - val_loss: 0.6007 - val_accuracy: 0.6875\n",
      "Epoch 8/10\n",
      "7/7 [==============================] - 0s 10ms/step - loss: 0.5478 - accuracy: 0.8438 - val_loss: 0.5975 - val_accuracy: 0.6875\n",
      "Epoch 9/10\n",
      "7/7 [==============================] - 0s 9ms/step - loss: 0.5428 - accuracy: 0.8438 - val_loss: 0.5943 - val_accuracy: 0.6875\n",
      "Epoch 10/10\n",
      "7/7 [==============================] - 0s 12ms/step - loss: 0.5370 - accuracy: 0.8438 - val_loss: 0.5912 - val_accuracy: 0.6875\n"
     ]
    }
   ],
   "source": [
    "history=model.fit(x_trainf,y_train,batch_size=10,epochs=10,validation_split=0.2)"
   ]
  },
  {
   "cell_type": "code",
   "execution_count": 161,
   "id": "5b4d0f8d",
   "metadata": {},
   "outputs": [],
   "source": [
    "y_pred=model.predict(x_testf)"
   ]
  },
  {
   "cell_type": "code",
   "execution_count": 162,
   "id": "1a679fc2",
   "metadata": {},
   "outputs": [],
   "source": [
    "y_predf=np.where(y_pred>0.5,1,0)"
   ]
  },
  {
   "cell_type": "code",
   "execution_count": 163,
   "id": "40114283",
   "metadata": {},
   "outputs": [
    {
     "data": {
      "text/plain": [
       "0.95"
      ]
     },
     "execution_count": 163,
     "metadata": {},
     "output_type": "execute_result"
    }
   ],
   "source": [
    "from sklearn.metrics import accuracy_score\n",
    "accuracy_score(y_test,y_predf)"
   ]
  },
  {
   "cell_type": "code",
   "execution_count": 164,
   "id": "e76a711f",
   "metadata": {},
   "outputs": [
    {
     "data": {
      "text/plain": [
       "[<matplotlib.lines.Line2D at 0x1fe67746550>]"
      ]
     },
     "execution_count": 164,
     "metadata": {},
     "output_type": "execute_result"
    },
    {
     "data": {
      "image/png": "[encoded data removed]",
      "text/plain": [
       "<Figure size 432x288 with 1 Axes>"
      ]
     },
     "metadata": {
      "needs_background": "light"
     },
     "output_type": "display_data"
    }
   ],
   "source": [
    "plt.plot(history.history[\"loss\"])\n",
    "plt.plot(history.history[\"val_loss\"])"
   ]
  },
  {
   "cell_type": "code",
   "execution_count": 165,
   "id": "a77abb1b",
   "metadata": {},
   "outputs": [
    {
     "data": {
      "text/plain": [
       "<AxesSubplot:>"
      ]
     },
     "execution_count": 165,
     "metadata": {},
     "output_type": "execute_result"
    },
    {
     "data": {
      "image/png": "[encoded data removed]",
      "text/plain": [
       "<Figure size 432x288 with 1 Axes>"
      ]
     },
     "metadata": {
      "needs_background": "light"
     },
     "output_type": "display_data"
    }
   ],
   "source": [
    "plot_decision_regions(data[[0,1]].values,data[2].values.astype(int),clf=model)"
   ]
  },
  {
   "cell_type": "code",
   "execution_count": 166,
   "id": "a9345ad1",
   "metadata": {},
   "outputs": [
    {
     "data": {
      "text/plain": [
       "<AxesSubplot:>"
      ]
     },
     "execution_count": 166,
     "metadata": {},
     "output_type": "execute_result"
    },
    {
     "data": {
      "image/png": "[encoded data removed]",
      "text/plain": [
       "<Figure size 432x288 with 1 Axes>"
      ]
     },
     "metadata": {
      "needs_background": "light"
     },
     "output_type": "display_data"
    }
   ],
   "source": [
    "plot_decision_regions(x_testf,y_test.values.astype(int),clf=model)"
   ]
  },
  {
   "cell_type": "markdown",
   "id": "e61d57e2",
   "metadata": {},
   "source": [
    "# Tanh Act Fn with adam optimizer"
   ]
  },
  {
   "cell_type": "code",
   "execution_count": 167,
   "id": "2c476e41",
   "metadata": {},
   "outputs": [],
   "source": [
    "model=Sequential()\n",
    "model.add(Dense(3,activation=\"tanh\",input_dim=2))\n",
    "\n",
    "model.add(Dense(4,activation=\"tanh\"))\n",
    "\n",
    "model.add(Dense(1,activation=\"sigmoid\"))"
   ]
  },
  {
   "cell_type": "code",
   "execution_count": 168,
   "id": "a582932e",
   "metadata": {},
   "outputs": [
    {
     "name": "stdout",
     "output_type": "stream",
     "text": [
      "Model: \"sequential_12\"\n",
      "_________________________________________________________________\n",
      " Layer (type)                Output Shape              Param #   \n",
      "=================================================================\n",
      " dense_36 (Dense)            (None, 3)                 9         \n",
      "                                                                 \n",
      " dense_37 (Dense)            (None, 4)                 16        \n",
      "                                                                 \n",
      " dense_38 (Dense)            (None, 1)                 5         \n",
      "                                                                 \n",
      "=================================================================\n",
      "Total params: 30\n",
      "Trainable params: 30\n",
      "Non-trainable params: 0\n",
      "_________________________________________________________________\n"
     ]
    }
   ],
   "source": [
    "model.summary()"
   ]
  },
  {
   "cell_type": "code",
   "execution_count": 169,
   "id": "84701cad",
   "metadata": {},
   "outputs": [],
   "source": [
    "model.compile(optimizer=\"adam\",loss=\"binary_crossentropy\",metrics=[\"accuracy\"])"
   ]
  },
  {
   "cell_type": "code",
   "execution_count": 170,
   "id": "ba26dabb",
   "metadata": {},
   "outputs": [
    {
     "name": "stdout",
     "output_type": "stream",
     "text": [
      "Epoch 1/20\n",
      "7/7 [==============================] - 1s 49ms/step - loss: 0.6973 - accuracy: 0.3594 - val_loss: 0.7228 - val_accuracy: 0.2500\n",
      "Epoch 2/20\n",
      "7/7 [==============================] - 0s 10ms/step - loss: 0.6933 - accuracy: 0.3750 - val_loss: 0.7188 - val_accuracy: 0.2500\n",
      "Epoch 3/20\n",
      "7/7 [==============================] - 0s 10ms/step - loss: 0.6893 - accuracy: 0.4062 - val_loss: 0.7149 - val_accuracy: 0.3125\n",
      "Epoch 4/20\n",
      "7/7 [==============================] - 0s 12ms/step - loss: 0.6856 - accuracy: 0.4062 - val_loss: 0.7108 - val_accuracy: 0.3125\n",
      "Epoch 5/20\n",
      "7/7 [==============================] - 0s 11ms/step - loss: 0.6814 - accuracy: 0.4062 - val_loss: 0.7066 - val_accuracy: 0.3750\n",
      "Epoch 6/20\n",
      "7/7 [==============================] - 0s 10ms/step - loss: 0.6774 - accuracy: 0.4375 - val_loss: 0.7026 - val_accuracy: 0.3750\n",
      "Epoch 7/20\n",
      "7/7 [==============================] - 0s 10ms/step - loss: 0.6735 - accuracy: 0.4844 - val_loss: 0.6984 - val_accuracy: 0.3750\n",
      "Epoch 8/20\n",
      "7/7 [==============================] - 0s 11ms/step - loss: 0.6690 - accuracy: 0.5938 - val_loss: 0.6944 - val_accuracy: 0.4375\n",
      "Epoch 9/20\n",
      "7/7 [==============================] - 0s 11ms/step - loss: 0.6649 - accuracy: 0.6250 - val_loss: 0.6903 - val_accuracy: 0.5000\n",
      "Epoch 10/20\n",
      "7/7 [==============================] - 0s 11ms/step - loss: 0.6606 - accuracy: 0.6562 - val_loss: 0.6864 - val_accuracy: 0.5625\n",
      "Epoch 11/20\n",
      "7/7 [==============================] - 0s 10ms/step - loss: 0.6560 - accuracy: 0.7188 - val_loss: 0.6827 - val_accuracy: 0.6250\n",
      "Epoch 12/20\n",
      "7/7 [==============================] - 0s 10ms/step - loss: 0.6518 - accuracy: 0.7344 - val_loss: 0.6783 - val_accuracy: 0.6250\n",
      "Epoch 13/20\n",
      "7/7 [==============================] - 0s 11ms/step - loss: 0.6471 - accuracy: 0.7344 - val_loss: 0.6741 - val_accuracy: 0.6250\n",
      "Epoch 14/20\n",
      "7/7 [==============================] - 0s 12ms/step - loss: 0.6425 - accuracy: 0.7812 - val_loss: 0.6701 - val_accuracy: 0.6250\n",
      "Epoch 15/20\n",
      "7/7 [==============================] - 0s 11ms/step - loss: 0.6377 - accuracy: 0.8281 - val_loss: 0.6664 - val_accuracy: 0.6250\n",
      "Epoch 16/20\n",
      "7/7 [==============================] - 0s 11ms/step - loss: 0.6329 - accuracy: 0.8281 - val_loss: 0.6623 - val_accuracy: 0.6250\n",
      "Epoch 17/20\n",
      "7/7 [==============================] - 0s 11ms/step - loss: 0.6283 - accuracy: 0.8438 - val_loss: 0.6580 - val_accuracy: 0.6875\n",
      "Epoch 18/20\n",
      "7/7 [==============================] - 0s 11ms/step - loss: 0.6233 - accuracy: 0.8438 - val_loss: 0.6538 - val_accuracy: 0.6875\n",
      "Epoch 19/20\n",
      "7/7 [==============================] - 0s 11ms/step - loss: 0.6187 - accuracy: 0.8594 - val_loss: 0.6494 - val_accuracy: 0.6250\n",
      "Epoch 20/20\n",
      "7/7 [==============================] - 0s 12ms/step - loss: 0.6138 - accuracy: 0.8594 - val_loss: 0.6459 - val_accuracy: 0.6250\n"
     ]
    }
   ],
   "source": [
    "history=model.fit(x_trainf,y_train,batch_size=10,epochs=20,validation_split=0.2)"
   ]
  },
  {
   "cell_type": "code",
   "execution_count": 171,
   "id": "7763c768",
   "metadata": {},
   "outputs": [],
   "source": [
    "y_pred=model.predict(x_testf)"
   ]
  },
  {
   "cell_type": "code",
   "execution_count": 172,
   "id": "763290ff",
   "metadata": {},
   "outputs": [],
   "source": [
    "y_predf=np.where(y_pred>0.5,1,0)"
   ]
  },
  {
   "cell_type": "code",
   "execution_count": 173,
   "id": "cdf77372",
   "metadata": {},
   "outputs": [
    {
     "data": {
      "text/plain": [
       "0.9"
      ]
     },
     "execution_count": 173,
     "metadata": {},
     "output_type": "execute_result"
    }
   ],
   "source": [
    "from sklearn.metrics import accuracy_score\n",
    "accuracy_score(y_test,y_predf)"
   ]
  },
  {
   "cell_type": "code",
   "execution_count": 174,
   "id": "b8331cea",
   "metadata": {},
   "outputs": [
    {
     "data": {
      "text/plain": [
       "[<matplotlib.lines.Line2D at 0x1fe6bd61670>]"
      ]
     },
     "execution_count": 174,
     "metadata": {},
     "output_type": "execute_result"
    },
    {
     "data": {
      "image/png": "[encoded data removed]",
      "text/plain": [
       "<Figure size 432x288 with 1 Axes>"
      ]
     },
     "metadata": {
      "needs_background": "light"
     },
     "output_type": "display_data"
    }
   ],
   "source": [
    "plt.plot(history.history[\"loss\"])\n",
    "plt.plot(history.history[\"val_loss\"])"
   ]
  },
  {
   "cell_type": "code",
   "execution_count": 175,
   "id": "d49f7d10",
   "metadata": {},
   "outputs": [
    {
     "data": {
      "text/plain": [
       "<AxesSubplot:>"
      ]
     },
     "execution_count": 175,
     "metadata": {},
     "output_type": "execute_result"
    },
    {
     "data": {
      "image/png": "[encoded data removed]",
      "text/plain": [
       "<Figure size 432x288 with 1 Axes>"
      ]
     },
     "metadata": {
      "needs_background": "light"
     },
     "output_type": "display_data"
    }
   ],
   "source": [
    "plot_decision_regions(data[[0,1]].values,data[2].values.astype(int),clf=model)"
   ]
  },
  {
   "cell_type": "code",
   "execution_count": 176,
   "id": "3c4e7624",
   "metadata": {},
   "outputs": [
    {
     "data": {
      "text/plain": [
       "<AxesSubplot:>"
      ]
     },
     "execution_count": 176,
     "metadata": {},
     "output_type": "execute_result"
    },
    {
     "data": {
      "image/png": "[encoded data removed]",
      "text/plain": [
       "<Figure size 432x288 with 1 Axes>"
      ]
     },
     "metadata": {
      "needs_background": "light"
     },
     "output_type": "display_data"
    }
   ],
   "source": [
    "plot_decision_regions(x_testf,y_test.values.astype(int),clf=model)"
   ]
  },
  {
   "cell_type": "markdown",
   "id": "42765451",
   "metadata": {},
   "source": [
    "# Relu Act Fn with sgd optimizer"
   ]
  },
  {
   "cell_type": "code",
   "execution_count": 184,
   "id": "3e7b2bf3",
   "metadata": {},
   "outputs": [],
   "source": [
    "model=Sequential()\n",
    "model.add(Dense(3,activation=\"relu\",input_dim=2))\n",
    "\n",
    "model.add(Dense(4,activation=\"relu\"))\n",
    "\n",
    "model.add(Dense(1,activation=\"sigmoid\"))"
   ]
  },
  {
   "cell_type": "code",
   "execution_count": 185,
   "id": "7ae37707",
   "metadata": {},
   "outputs": [
    {
     "name": "stdout",
     "output_type": "stream",
     "text": [
      "Model: \"sequential_14\"\n",
      "_________________________________________________________________\n",
      " Layer (type)                Output Shape              Param #   \n",
      "=================================================================\n",
      " dense_42 (Dense)            (None, 3)                 9         \n",
      "                                                                 \n",
      " dense_43 (Dense)            (None, 4)                 16        \n",
      "                                                                 \n",
      " dense_44 (Dense)            (None, 1)                 5         \n",
      "                                                                 \n",
      "=================================================================\n",
      "Total params: 30\n",
      "Trainable params: 30\n",
      "Non-trainable params: 0\n",
      "_________________________________________________________________\n"
     ]
    }
   ],
   "source": [
    "model.summary()"
   ]
  },
  {
   "cell_type": "code",
   "execution_count": 186,
   "id": "63f0ff17",
   "metadata": {},
   "outputs": [],
   "source": [
    "model.compile(optimizer=\"sgd\",loss=\"binary_crossentropy\",metrics=[\"accuracy\"])"
   ]
  },
  {
   "cell_type": "code",
   "execution_count": 187,
   "id": "c5842009",
   "metadata": {},
   "outputs": [
    {
     "name": "stdout",
     "output_type": "stream",
     "text": [
      "Epoch 1/30\n",
      "7/7 [==============================] - 1s 47ms/step - loss: 0.6511 - accuracy: 0.7031 - val_loss: 0.6551 - val_accuracy: 0.8125\n",
      "Epoch 2/30\n",
      "7/7 [==============================] - 0s 11ms/step - loss: 0.6463 - accuracy: 0.8438 - val_loss: 0.6518 - val_accuracy: 0.8125\n",
      "Epoch 3/30\n",
      "7/7 [==============================] - 0s 12ms/step - loss: 0.6414 - accuracy: 0.8281 - val_loss: 0.6485 - val_accuracy: 0.8125\n",
      "Epoch 4/30\n",
      "7/7 [==============================] - 0s 11ms/step - loss: 0.6367 - accuracy: 0.8281 - val_loss: 0.6459 - val_accuracy: 0.8125\n",
      "Epoch 5/30\n",
      "7/7 [==============================] - 0s 10ms/step - loss: 0.6326 - accuracy: 0.8281 - val_loss: 0.6433 - val_accuracy: 0.8125\n",
      "Epoch 6/30\n",
      "7/7 [==============================] - 0s 10ms/step - loss: 0.6286 - accuracy: 0.8281 - val_loss: 0.6402 - val_accuracy: 0.8125\n",
      "Epoch 7/30\n",
      "7/7 [==============================] - 0s 10ms/step - loss: 0.6236 - accuracy: 0.8281 - val_loss: 0.6375 - val_accuracy: 0.8125\n",
      "Epoch 8/30\n",
      "7/7 [==============================] - 0s 10ms/step - loss: 0.6190 - accuracy: 0.8281 - val_loss: 0.6352 - val_accuracy: 0.8125\n",
      "Epoch 9/30\n",
      "7/7 [==============================] - 0s 10ms/step - loss: 0.6151 - accuracy: 0.8281 - val_loss: 0.6328 - val_accuracy: 0.8125\n",
      "Epoch 10/30\n",
      "7/7 [==============================] - 0s 11ms/step - loss: 0.6104 - accuracy: 0.8281 - val_loss: 0.6305 - val_accuracy: 0.8125\n",
      "Epoch 11/30\n",
      "7/7 [==============================] - 0s 10ms/step - loss: 0.6063 - accuracy: 0.8281 - val_loss: 0.6285 - val_accuracy: 0.8125\n",
      "Epoch 12/30\n",
      "7/7 [==============================] - 0s 10ms/step - loss: 0.6027 - accuracy: 0.8281 - val_loss: 0.6263 - val_accuracy: 0.8125\n",
      "Epoch 13/30\n",
      "7/7 [==============================] - 0s 10ms/step - loss: 0.5986 - accuracy: 0.8125 - val_loss: 0.6241 - val_accuracy: 0.8125\n",
      "Epoch 14/30\n",
      "7/7 [==============================] - 0s 11ms/step - loss: 0.5944 - accuracy: 0.8125 - val_loss: 0.6222 - val_accuracy: 0.8125\n",
      "Epoch 15/30\n",
      "7/7 [==============================] - 0s 11ms/step - loss: 0.5906 - accuracy: 0.8125 - val_loss: 0.6202 - val_accuracy: 0.8125\n",
      "Epoch 16/30\n",
      "7/7 [==============================] - 0s 11ms/step - loss: 0.5869 - accuracy: 0.8281 - val_loss: 0.6183 - val_accuracy: 0.8125\n",
      "Epoch 17/30\n",
      "7/7 [==============================] - 0s 13ms/step - loss: 0.5833 - accuracy: 0.8281 - val_loss: 0.6163 - val_accuracy: 0.8125\n",
      "Epoch 18/30\n",
      "7/7 [==============================] - 0s 13ms/step - loss: 0.5795 - accuracy: 0.8281 - val_loss: 0.6145 - val_accuracy: 0.8125\n",
      "Epoch 19/30\n",
      "7/7 [==============================] - 0s 12ms/step - loss: 0.5759 - accuracy: 0.8125 - val_loss: 0.6129 - val_accuracy: 0.8125\n",
      "Epoch 20/30\n",
      "7/7 [==============================] - 0s 12ms/step - loss: 0.5727 - accuracy: 0.8281 - val_loss: 0.6113 - val_accuracy: 0.8125\n",
      "Epoch 21/30\n",
      "7/7 [==============================] - 0s 11ms/step - loss: 0.5697 - accuracy: 0.8281 - val_loss: 0.6098 - val_accuracy: 0.8125\n",
      "Epoch 22/30\n",
      "7/7 [==============================] - 0s 10ms/step - loss: 0.5663 - accuracy: 0.8281 - val_loss: 0.6084 - val_accuracy: 0.8125\n",
      "Epoch 23/30\n",
      "7/7 [==============================] - 0s 11ms/step - loss: 0.5633 - accuracy: 0.8125 - val_loss: 0.6073 - val_accuracy: 0.8125\n",
      "Epoch 24/30\n",
      "7/7 [==============================] - 0s 11ms/step - loss: 0.5606 - accuracy: 0.8281 - val_loss: 0.6059 - val_accuracy: 0.8125\n",
      "Epoch 25/30\n",
      "7/7 [==============================] - 0s 11ms/step - loss: 0.5581 - accuracy: 0.8281 - val_loss: 0.6044 - val_accuracy: 0.8125\n",
      "Epoch 26/30\n",
      "7/7 [==============================] - 0s 11ms/step - loss: 0.5546 - accuracy: 0.8125 - val_loss: 0.6030 - val_accuracy: 0.8125\n",
      "Epoch 27/30\n",
      "7/7 [==============================] - 0s 12ms/step - loss: 0.5516 - accuracy: 0.8281 - val_loss: 0.6016 - val_accuracy: 0.8125\n",
      "Epoch 28/30\n",
      "7/7 [==============================] - 0s 13ms/step - loss: 0.5484 - accuracy: 0.8281 - val_loss: 0.6007 - val_accuracy: 0.8125\n",
      "Epoch 29/30\n",
      "7/7 [==============================] - 0s 11ms/step - loss: 0.5453 - accuracy: 0.8125 - val_loss: 0.5991 - val_accuracy: 0.8125\n",
      "Epoch 30/30\n",
      "7/7 [==============================] - 0s 13ms/step - loss: 0.5420 - accuracy: 0.8281 - val_loss: 0.5979 - val_accuracy: 0.8125\n"
     ]
    }
   ],
   "source": [
    "history=model.fit(x_trainf,y_train,batch_size=10,epochs=30,validation_split=0.2)"
   ]
  },
  {
   "cell_type": "code",
   "execution_count": 188,
   "id": "2a181d55",
   "metadata": {},
   "outputs": [],
   "source": [
    "y_pred=model.predict(x_testf)"
   ]
  },
  {
   "cell_type": "code",
   "execution_count": 189,
   "id": "c01fbe09",
   "metadata": {},
   "outputs": [],
   "source": [
    "y_predf=np.where(y_pred>0.5,1,0)"
   ]
  },
  {
   "cell_type": "code",
   "execution_count": 190,
   "id": "ec7a113d",
   "metadata": {},
   "outputs": [
    {
     "data": {
      "text/plain": [
       "0.75"
      ]
     },
     "execution_count": 190,
     "metadata": {},
     "output_type": "execute_result"
    }
   ],
   "source": [
    "from sklearn.metrics import accuracy_score\n",
    "accuracy_score(y_test,y_predf)"
   ]
  },
  {
   "cell_type": "code",
   "execution_count": 191,
   "id": "1564eca9",
   "metadata": {},
   "outputs": [
    {
     "data": {
      "text/plain": [
       "[<matplotlib.lines.Line2D at 0x1fe6e597ee0>]"
      ]
     },
     "execution_count": 191,
     "metadata": {},
     "output_type": "execute_result"
    },
    {
     "data": {
      "image/png": "[encoded data removed]",
      "text/plain": [
       "<Figure size 432x288 with 1 Axes>"
      ]
     },
     "metadata": {
      "needs_background": "light"
     },
     "output_type": "display_data"
    }
   ],
   "source": [
    "plt.plot(history.history[\"loss\"])\n",
    "plt.plot(history.history[\"val_loss\"])"
   ]
  },
  {
   "cell_type": "code",
   "execution_count": 193,
   "id": "687577f9",
   "metadata": {},
   "outputs": [
    {
     "data": {
      "text/plain": [
       "<AxesSubplot:>"
      ]
     },
     "execution_count": 193,
     "metadata": {},
     "output_type": "execute_result"
    },
    {
     "data": {
      "image/png": "[encoded data removed]",
      "text/plain": [
       "<Figure size 432x288 with 1 Axes>"
      ]
     },
     "metadata": {
      "needs_background": "light"
     },
     "output_type": "display_data"
    }
   ],
   "source": [
    "plot_decision_regions(data[[0,1]].values,data[2].values.astype(int),clf=model)"
   ]
  },
  {
   "cell_type": "code",
   "execution_count": 192,
   "id": "404c46d1",
   "metadata": {},
   "outputs": [
    {
     "data": {
      "text/plain": [
       "<AxesSubplot:>"
      ]
     },
     "execution_count": 192,
     "metadata": {},
     "output_type": "execute_result"
    },
    {
     "data": {
      "image/png": "[encoded data removed]",
      "text/plain": [
       "<Figure size 432x288 with 1 Axes>"
      ]
     },
     "metadata": {
      "needs_background": "light"
     },
     "output_type": "display_data"
    }
   ],
   "source": [
    "plot_decision_regions(x_testf,y_test.values.astype(int),clf=model)"
   ]
  },
  {
   "cell_type": "markdown",
   "id": "bc383f56",
   "metadata": {},
   "source": [
    "# Relu Act Fn with adam optimizer"
   ]
  },
  {
   "cell_type": "code",
   "execution_count": 205,
   "id": "192d1c66",
   "metadata": {},
   "outputs": [],
   "source": [
    "model=Sequential()\n",
    "model.add(Dense(3,activation=\"relu\",input_dim=2))\n",
    "\n",
    "model.add(Dense(4,activation=\"relu\"))\n",
    "\n",
    "model.add(Dense(1,activation=\"sigmoid\"))"
   ]
  },
  {
   "cell_type": "code",
   "execution_count": 206,
   "id": "93263576",
   "metadata": {},
   "outputs": [
    {
     "name": "stdout",
     "output_type": "stream",
     "text": [
      "Model: \"sequential_16\"\n",
      "_________________________________________________________________\n",
      " Layer (type)                Output Shape              Param #   \n",
      "=================================================================\n",
      " dense_48 (Dense)            (None, 3)                 9         \n",
      "                                                                 \n",
      " dense_49 (Dense)            (None, 4)                 16        \n",
      "                                                                 \n",
      " dense_50 (Dense)            (None, 1)                 5         \n",
      "                                                                 \n",
      "=================================================================\n",
      "Total params: 30\n",
      "Trainable params: 30\n",
      "Non-trainable params: 0\n",
      "_________________________________________________________________\n"
     ]
    }
   ],
   "source": [
    "model.summary()"
   ]
  },
  {
   "cell_type": "code",
   "execution_count": 207,
   "id": "a05896d5",
   "metadata": {},
   "outputs": [],
   "source": [
    "model.compile(optimizer=\"adam\",loss=\"binary_crossentropy\",metrics=[\"accuracy\"])"
   ]
  },
  {
   "cell_type": "code",
   "execution_count": 208,
   "id": "98d2fd1d",
   "metadata": {},
   "outputs": [
    {
     "name": "stdout",
     "output_type": "stream",
     "text": [
      "Epoch 1/20\n",
      "7/7 [==============================] - 1s 76ms/step - loss: 0.6375 - accuracy: 0.5781 - val_loss: 0.7004 - val_accuracy: 0.6875\n",
      "Epoch 2/20\n",
      "7/7 [==============================] - 0s 11ms/step - loss: 0.6351 - accuracy: 0.6250 - val_loss: 0.6997 - val_accuracy: 0.6250\n",
      "Epoch 3/20\n",
      "7/7 [==============================] - 0s 10ms/step - loss: 0.6325 - accuracy: 0.6250 - val_loss: 0.6991 - val_accuracy: 0.6875\n",
      "Epoch 4/20\n",
      "7/7 [==============================] - 0s 11ms/step - loss: 0.6302 - accuracy: 0.6562 - val_loss: 0.6984 - val_accuracy: 0.6875\n",
      "Epoch 5/20\n",
      "7/7 [==============================] - 0s 10ms/step - loss: 0.6275 - accuracy: 0.6562 - val_loss: 0.6976 - val_accuracy: 0.6875\n",
      "Epoch 6/20\n",
      "7/7 [==============================] - 0s 10ms/step - loss: 0.6248 - accuracy: 0.6562 - val_loss: 0.6966 - val_accuracy: 0.6875\n",
      "Epoch 7/20\n",
      "7/7 [==============================] - 0s 10ms/step - loss: 0.6221 - accuracy: 0.6562 - val_loss: 0.6959 - val_accuracy: 0.6875\n",
      "Epoch 8/20\n",
      "7/7 [==============================] - 0s 10ms/step - loss: 0.6191 - accuracy: 0.6406 - val_loss: 0.6951 - val_accuracy: 0.6875\n",
      "Epoch 9/20\n",
      "7/7 [==============================] - 0s 12ms/step - loss: 0.6161 - accuracy: 0.6562 - val_loss: 0.6943 - val_accuracy: 0.6875\n",
      "Epoch 10/20\n",
      "7/7 [==============================] - 0s 11ms/step - loss: 0.6129 - accuracy: 0.6719 - val_loss: 0.6934 - val_accuracy: 0.6250\n",
      "Epoch 11/20\n",
      "7/7 [==============================] - 0s 11ms/step - loss: 0.6098 - accuracy: 0.6875 - val_loss: 0.6928 - val_accuracy: 0.6250\n",
      "Epoch 12/20\n",
      "7/7 [==============================] - 0s 11ms/step - loss: 0.6060 - accuracy: 0.6875 - val_loss: 0.6920 - val_accuracy: 0.6250\n",
      "Epoch 13/20\n",
      "7/7 [==============================] - 0s 10ms/step - loss: 0.6029 - accuracy: 0.7031 - val_loss: 0.6911 - val_accuracy: 0.6250\n",
      "Epoch 14/20\n",
      "7/7 [==============================] - 0s 11ms/step - loss: 0.5991 - accuracy: 0.7188 - val_loss: 0.6902 - val_accuracy: 0.6250\n",
      "Epoch 15/20\n",
      "7/7 [==============================] - 0s 10ms/step - loss: 0.5951 - accuracy: 0.7344 - val_loss: 0.6894 - val_accuracy: 0.5625\n",
      "Epoch 16/20\n",
      "7/7 [==============================] - 0s 11ms/step - loss: 0.5904 - accuracy: 0.7344 - val_loss: 0.6885 - val_accuracy: 0.5625\n",
      "Epoch 17/20\n",
      "7/7 [==============================] - 0s 11ms/step - loss: 0.5854 - accuracy: 0.7188 - val_loss: 0.6878 - val_accuracy: 0.5625\n",
      "Epoch 18/20\n",
      "7/7 [==============================] - 0s 10ms/step - loss: 0.5803 - accuracy: 0.7188 - val_loss: 0.6871 - val_accuracy: 0.5625\n",
      "Epoch 19/20\n",
      "7/7 [==============================] - 0s 11ms/step - loss: 0.5752 - accuracy: 0.7656 - val_loss: 0.6854 - val_accuracy: 0.5625\n",
      "Epoch 20/20\n",
      "7/7 [==============================] - 0s 10ms/step - loss: 0.5697 - accuracy: 0.7656 - val_loss: 0.6826 - val_accuracy: 0.5625\n"
     ]
    }
   ],
   "source": [
    "history=model.fit(x_trainf,y_train,batch_size=10,epochs=20,validation_split=0.2)"
   ]
  },
  {
   "cell_type": "code",
   "execution_count": 209,
   "id": "fa7441b5",
   "metadata": {},
   "outputs": [],
   "source": [
    "y_pred=model.predict(x_testf)"
   ]
  },
  {
   "cell_type": "code",
   "execution_count": 210,
   "id": "763975c2",
   "metadata": {},
   "outputs": [],
   "source": [
    "y_predf=np.where(y_pred>0.5,1,0)"
   ]
  },
  {
   "cell_type": "code",
   "execution_count": 211,
   "id": "4255d3b5",
   "metadata": {},
   "outputs": [
    {
     "data": {
      "text/plain": [
       "0.85"
      ]
     },
     "execution_count": 211,
     "metadata": {},
     "output_type": "execute_result"
    }
   ],
   "source": [
    "from sklearn.metrics import accuracy_score\n",
    "accuracy_score(y_test,y_predf)"
   ]
  },
  {
   "cell_type": "code",
   "execution_count": 212,
   "id": "1ce2becb",
   "metadata": {},
   "outputs": [
    {
     "data": {
      "text/plain": [
       "[<matplotlib.lines.Line2D at 0x1fe65ebf1f0>]"
      ]
     },
     "execution_count": 212,
     "metadata": {},
     "output_type": "execute_result"
    },
    {
     "data": {
      "image/png": "[encoded data removed]",
      "text/plain": [
       "<Figure size 432x288 with 1 Axes>"
      ]
     },
     "metadata": {
      "needs_background": "light"
     },
     "output_type": "display_data"
    }
   ],
   "source": [
    "plt.plot(history.history[\"loss\"])\n",
    "plt.plot(history.history[\"val_loss\"])"
   ]
  },
  {
   "cell_type": "code",
   "execution_count": 156,
   "id": "f463f727",
   "metadata": {},
   "outputs": [
    {
     "data": {
      "text/plain": [
       "<AxesSubplot:>"
      ]
     },
     "execution_count": 156,
     "metadata": {},
     "output_type": "execute_result"
    },
    {
     "data": {
      "image/png": "[encoded data removed]",
      "text/plain": [
       "<Figure size 432x288 with 1 Axes>"
      ]
     },
     "metadata": {
      "needs_background": "light"
     },
     "output_type": "display_data"
    }
   ],
   "source": [
    "plot_decision_regions(data[[0,1]].values,data[2].values.astype(int),clf=model)"
   ]
  },
  {
   "cell_type": "code",
   "execution_count": 155,
   "id": "2313c0c9",
   "metadata": {},
   "outputs": [
    {
     "name": "stdout",
     "output_type": "stream",
     "text": [
      "WARNING:tensorflow:5 out of the last 7781 calls to <function Model.make_predict_function.<locals>.predict_function at 0x000001FE65BD8A60> triggered tf.function retracing. Tracing is expensive and the excessive number of tracings could be due to (1) creating @tf.function repeatedly in a loop, (2) passing tensors with different shapes, (3) passing Python objects instead of tensors. For (1), please define your @tf.function outside of the loop. For (2), @tf.function has experimental_relax_shapes=True option that relaxes argument shapes that can avoid unnecessary retracing. For (3), please refer to https://www.tensorflow.org/guide/function#controlling_retracing and https://www.tensorflow.org/api_docs/python/tf/function for  more details.\n"
     ]
    },
    {
     "data": {
      "text/plain": [
       "<AxesSubplot:>"
      ]
     },
     "execution_count": 155,
     "metadata": {},
     "output_type": "execute_result"
    },
    {
     "data": {
      "image/png": "[encoded data removed]",
      "text/plain": [
       "<Figure size 432x288 with 1 Axes>"
      ]
     },
     "metadata": {
      "needs_background": "light"
     },
     "output_type": "display_data"
    }
   ],
   "source": [
    "plot_decision_regions(x_testf,y_test.values.astype(int),clf=model)"
   ]
  },
  {
   "cell_type": "markdown",
   "id": "58c24dbe",
   "metadata": {},
   "source": [
    "# Conclusion"
   ]
  },
  {
   "cell_type": "raw",
   "id": "c3114b83",
   "metadata": {},
   "source": [
    "We have done 80% and 20% train test split\n",
    "In train split again we splitted 80% and 20% as validation and train split\n",
    "\n",
    "Used Sigmoid, Tanh, Relu activation fns.\n",
    "and also used Adam and sgd optimzers.\n",
    "Changed the n. of epochs according to the best accuracy of each model.\n",
    "\n",
    "SIGMOID\n",
    "For sigmoid fn with sgd optimizer accuracy score is 0.6 and validation loss and train loss is just 0.03 apart which means model is trained approximately well\n",
    "For sigmoid fn with adam optimizer accuracy score is 0.65 and validation loss and train loss differ a lot which means model is not trained well\n",
    "\n",
    "Tanh\n",
    "For Tanh fn with sgd optimizer accuracy score is 0.95 and validation loss and train loss is just 0.03 apart which means model is trained approximately well\n",
    "For Tanh fn with adam optimizer accuracy score is 0.9 and validation loss and train loss is just 0.03 apart which means model is trained approximately well\n",
    "\n",
    "Relu\n",
    "For Relu fn with sgd optimizer accuracy score is 0.75 and validation loss and train loss is just 0.03 apart which means model is trained approximately well\n",
    "For Relu fn with adam optimizer accuracy score is 0.85 and validation loss and train loss differ a lot which means model is not trained well\n"
   ]
  },
  {
   "cell_type": "markdown",
   "id": "f3fbd8b8",
   "metadata": {},
   "source": [
    "### For this Dataset \"ushape\" Tanh Activation Function with sgd optimizer is working well "
   ]
  }
 ],
 "metadata": {
  "kernelspec": {
   "display_name": "Python 3 (ipykernel)",
   "language": "python",
   "name": "python3"
  },
  "language_info": {
   "codemirror_mode": {
    "name": "ipython",
    "version": 3
   },
   "file_extension": ".py",
   "mimetype": "text/x-python",
   "name": "python",
   "nbconvert_exporter": "python",
   "pygments_lexer": "ipython3",
   "version": "3.9.7"
  }
 },
 "nbformat": 4,
 "nbformat_minor": 5
}
